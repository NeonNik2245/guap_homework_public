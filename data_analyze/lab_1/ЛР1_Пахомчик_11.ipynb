{
 "cells": [
  {
   "cell_type": "markdown",
   "metadata": {
    "id": "bri_pAriNFqN"
   },
   "source": [
    "**Цель работы:**\n",
    "\n",
    "Осуществить предварительную обработку данных csv-файла, выявить и устранить проблемы в этих данных."
   ]
  },
  {
   "cell_type": "markdown",
   "metadata": {
    "id": "r_e-GeJmgZ8l"
   },
   "source": [
    "# Загрузка набора данных"
   ]
  },
  {
   "cell_type": "markdown",
   "metadata": {
    "id": "eeq9ZAbSguQS"
   },
   "source": [
    "### Описание предметной области"
   ]
  },
  {
   "cell_type": "markdown",
   "metadata": {
    "id": "XHbH8zNIg0Ib"
   },
   "source": [
    "Вариант № 11\n",
    "\n",
    "Набор данных: [auto.csv](https://github.com/NeonNik2245/guap_homework_public/blob/main/data_analyze/lab_1/auto.csv)\n",
    "\n",
    "Атрибуты:\n",
    "..."
   ]
  },
  {
   "cell_type": "markdown",
   "metadata": {
    "id": "Lwin9ia7hT1i"
   },
   "source": [
    "### 1.Чтение файла (набора данных)\n",
    "Данные могут читаться по указанному пути в файловой системе или браться из интернета по ссылке. В случае данного задания файл берётся по ссылке с github."
   ]
  },
  {
   "cell_type": "code",
   "execution_count": 1,
   "metadata": {
    "id": "a5dYQO5YhOYa"
   },
   "outputs": [],
   "source": [
    "# импорт библиотек, чтение файла с помощью pandas\n",
    "import pandas as pd\n",
    "url = \"https://github.com/NeonNik2245/guap_homework_public/blob/main/data_analyze/lab_1/auto.csv?raw=true\"\n",
    "df = pd.read_csv(url)"
   ]
  },
  {
   "cell_type": "markdown",
   "metadata": {
    "id": "p82p53SvhjLN"
   },
   "source": [
    "### 2. Обзор данных"
   ]
  },
  {
   "cell_type": "markdown",
   "metadata": {
    "id": "eAYzXaLrh-qh"
   },
   "source": [
    "2.1 Вывод первых 20 строк с помощью метода head.\n",
    "Поскольку в переменную df уже записана таблица (Dataframe), можно не вызывать чтение файла повторно. Метод Head позволяет получить первые n строк таблицы."
   ]
  },
  {
   "cell_type": "code",
   "execution_count": 2,
   "metadata": {
    "id": "7yMo3VZ_hotx"
   },
   "outputs": [
    {
     "data": {
      "text/html": [
       "<div>\n",
       "<style scoped>\n",
       "    .dataframe tbody tr th:only-of-type {\n",
       "        vertical-align: middle;\n",
       "    }\n",
       "\n",
       "    .dataframe tbody tr th {\n",
       "        vertical-align: top;\n",
       "    }\n",
       "\n",
       "    .dataframe thead th {\n",
       "        text-align: right;\n",
       "    }\n",
       "</style>\n",
       "<table border=\"1\" class=\"dataframe\">\n",
       "  <thead>\n",
       "    <tr style=\"text-align: right;\">\n",
       "      <th></th>\n",
       "      <th>Name</th>\n",
       "      <th>year</th>\n",
       "      <th>SellingPrice</th>\n",
       "      <th>kmdriven</th>\n",
       "      <th>fuel</th>\n",
       "      <th>seller_Type</th>\n",
       "      <th>transmission</th>\n",
       "      <th>owner</th>\n",
       "    </tr>\n",
       "  </thead>\n",
       "  <tbody>\n",
       "    <tr>\n",
       "      <th>0</th>\n",
       "      <td>Maruti 800 AC</td>\n",
       "      <td>2007</td>\n",
       "      <td>60000.0</td>\n",
       "      <td>70000.0</td>\n",
       "      <td>Petrol</td>\n",
       "      <td>Individual</td>\n",
       "      <td>Manual</td>\n",
       "      <td>First Owner</td>\n",
       "    </tr>\n",
       "    <tr>\n",
       "      <th>1</th>\n",
       "      <td>Maruti Wagon R LXI Minor</td>\n",
       "      <td>2007</td>\n",
       "      <td>135000.0</td>\n",
       "      <td>50000.0</td>\n",
       "      <td>Petrol</td>\n",
       "      <td>Individual</td>\n",
       "      <td>Manual</td>\n",
       "      <td>First Owner</td>\n",
       "    </tr>\n",
       "    <tr>\n",
       "      <th>2</th>\n",
       "      <td>Hyundai Verna 1.6 SX</td>\n",
       "      <td>2012</td>\n",
       "      <td>600000.0</td>\n",
       "      <td>100000.0</td>\n",
       "      <td>Diesel</td>\n",
       "      <td>Individual</td>\n",
       "      <td>Manual</td>\n",
       "      <td>First Owner</td>\n",
       "    </tr>\n",
       "    <tr>\n",
       "      <th>3</th>\n",
       "      <td>Datsun RediGO T Option</td>\n",
       "      <td>2017</td>\n",
       "      <td>250000.0</td>\n",
       "      <td>46000.0</td>\n",
       "      <td>Petrol</td>\n",
       "      <td>Individual</td>\n",
       "      <td>Manual</td>\n",
       "      <td>First Owner</td>\n",
       "    </tr>\n",
       "    <tr>\n",
       "      <th>4</th>\n",
       "      <td>Honda Amaze VX i-DTEC</td>\n",
       "      <td>2014</td>\n",
       "      <td>450000.0</td>\n",
       "      <td>141000.0</td>\n",
       "      <td>Diesel</td>\n",
       "      <td>Individual</td>\n",
       "      <td>Manual</td>\n",
       "      <td>Second Owner</td>\n",
       "    </tr>\n",
       "    <tr>\n",
       "      <th>5</th>\n",
       "      <td>Maruti Alto LX BSIII</td>\n",
       "      <td>2007</td>\n",
       "      <td>140000.0</td>\n",
       "      <td>125000.0</td>\n",
       "      <td>Petrol</td>\n",
       "      <td>Individual</td>\n",
       "      <td>Manual</td>\n",
       "      <td>First Owner</td>\n",
       "    </tr>\n",
       "    <tr>\n",
       "      <th>6</th>\n",
       "      <td>Hyundai Xcent 1.2 Kappa S</td>\n",
       "      <td>2016</td>\n",
       "      <td>550000.0</td>\n",
       "      <td>25000.0</td>\n",
       "      <td>Petrol</td>\n",
       "      <td>Individual</td>\n",
       "      <td>Manual</td>\n",
       "      <td>First Owner</td>\n",
       "    </tr>\n",
       "    <tr>\n",
       "      <th>7</th>\n",
       "      <td>Tata Indigo Grand Petroll</td>\n",
       "      <td>2014</td>\n",
       "      <td>240000.0</td>\n",
       "      <td>60000.0</td>\n",
       "      <td>Petrol</td>\n",
       "      <td>Individual</td>\n",
       "      <td>Manual</td>\n",
       "      <td>Second Owner</td>\n",
       "    </tr>\n",
       "    <tr>\n",
       "      <th>8</th>\n",
       "      <td>Hyundai Creta 1.6 VTVT S</td>\n",
       "      <td>2015</td>\n",
       "      <td>850000.0</td>\n",
       "      <td>25000.0</td>\n",
       "      <td>Petroll</td>\n",
       "      <td>Individual</td>\n",
       "      <td>Manual</td>\n",
       "      <td>First Owner</td>\n",
       "    </tr>\n",
       "    <tr>\n",
       "      <th>9</th>\n",
       "      <td>Maruti Celerio Green VXI</td>\n",
       "      <td>2017</td>\n",
       "      <td>365000.0</td>\n",
       "      <td>78000.0</td>\n",
       "      <td>CNG</td>\n",
       "      <td>Individual</td>\n",
       "      <td>Manual</td>\n",
       "      <td>First Owner</td>\n",
       "    </tr>\n",
       "    <tr>\n",
       "      <th>10</th>\n",
       "      <td>Chevrolet Sail 1.2 Base</td>\n",
       "      <td>2015</td>\n",
       "      <td>260000.0</td>\n",
       "      <td>35000.0</td>\n",
       "      <td>Petrol</td>\n",
       "      <td>Individual</td>\n",
       "      <td>Manual</td>\n",
       "      <td>First Owner</td>\n",
       "    </tr>\n",
       "    <tr>\n",
       "      <th>11</th>\n",
       "      <td>Tata Indigo Grand Petrol</td>\n",
       "      <td>2014</td>\n",
       "      <td>250000.0</td>\n",
       "      <td>100000.0</td>\n",
       "      <td>Petrol</td>\n",
       "      <td>Individual</td>\n",
       "      <td>Manual</td>\n",
       "      <td>First Owner</td>\n",
       "    </tr>\n",
       "    <tr>\n",
       "      <th>12</th>\n",
       "      <td>Toyota Corolla Altis 1.8 VL CVT</td>\n",
       "      <td>2018</td>\n",
       "      <td>1650000.0</td>\n",
       "      <td>25000.0</td>\n",
       "      <td>Petrol</td>\n",
       "      <td>Dealer</td>\n",
       "      <td>Automatic</td>\n",
       "      <td>First Owner</td>\n",
       "    </tr>\n",
       "    <tr>\n",
       "      <th>13</th>\n",
       "      <td>Maruti 800 AC</td>\n",
       "      <td>2007</td>\n",
       "      <td>60000.0</td>\n",
       "      <td>70000.0</td>\n",
       "      <td>Petrol</td>\n",
       "      <td>Individual</td>\n",
       "      <td>Manual</td>\n",
       "      <td>First Owner</td>\n",
       "    </tr>\n",
       "    <tr>\n",
       "      <th>14</th>\n",
       "      <td>Maruti Wagon R LXI Minor</td>\n",
       "      <td>2007</td>\n",
       "      <td>135000.0</td>\n",
       "      <td>50000.0</td>\n",
       "      <td>Petrol</td>\n",
       "      <td>Individual</td>\n",
       "      <td>Manual</td>\n",
       "      <td>First Owner</td>\n",
       "    </tr>\n",
       "    <tr>\n",
       "      <th>15</th>\n",
       "      <td>Hyundai Verna 1.6 SX</td>\n",
       "      <td>2012</td>\n",
       "      <td>600000.0</td>\n",
       "      <td>100000.0</td>\n",
       "      <td>Diesel</td>\n",
       "      <td>Individual</td>\n",
       "      <td>Manual</td>\n",
       "      <td>First Owner</td>\n",
       "    </tr>\n",
       "    <tr>\n",
       "      <th>16</th>\n",
       "      <td>Datsun RediGO T Option</td>\n",
       "      <td>2017</td>\n",
       "      <td>250000.0</td>\n",
       "      <td>46000.0</td>\n",
       "      <td>Petrol</td>\n",
       "      <td>Individual</td>\n",
       "      <td>Manual</td>\n",
       "      <td>First Owner</td>\n",
       "    </tr>\n",
       "    <tr>\n",
       "      <th>17</th>\n",
       "      <td>Honda Amaze VX i-DTEC</td>\n",
       "      <td>2014</td>\n",
       "      <td>450000.0</td>\n",
       "      <td>141000.0</td>\n",
       "      <td>Diesel</td>\n",
       "      <td>Individual</td>\n",
       "      <td>Manual</td>\n",
       "      <td>Second Owner</td>\n",
       "    </tr>\n",
       "    <tr>\n",
       "      <th>18</th>\n",
       "      <td>Maruti Alto LX BSIII</td>\n",
       "      <td>2007</td>\n",
       "      <td>140000.0</td>\n",
       "      <td>125000.0</td>\n",
       "      <td>Petrol</td>\n",
       "      <td>Individual</td>\n",
       "      <td>Manual</td>\n",
       "      <td>First Owner</td>\n",
       "    </tr>\n",
       "    <tr>\n",
       "      <th>19</th>\n",
       "      <td>Hyundai Xcent 1.2 Kappa S</td>\n",
       "      <td>2016</td>\n",
       "      <td>550000.0</td>\n",
       "      <td>25000.0</td>\n",
       "      <td>Petrol</td>\n",
       "      <td>Individual</td>\n",
       "      <td>Manual</td>\n",
       "      <td>First Owner</td>\n",
       "    </tr>\n",
       "  </tbody>\n",
       "</table>\n",
       "</div>"
      ],
      "text/plain": [
       "                               Name  year  SellingPrice  kmdriven     fuel  \\\n",
       "0                     Maruti 800 AC  2007       60000.0   70000.0   Petrol   \n",
       "1          Maruti Wagon R LXI Minor  2007      135000.0   50000.0   Petrol   \n",
       "2              Hyundai Verna 1.6 SX  2012      600000.0  100000.0   Diesel   \n",
       "3            Datsun RediGO T Option  2017      250000.0   46000.0   Petrol   \n",
       "4             Honda Amaze VX i-DTEC  2014      450000.0  141000.0   Diesel   \n",
       "5              Maruti Alto LX BSIII  2007      140000.0  125000.0   Petrol   \n",
       "6         Hyundai Xcent 1.2 Kappa S  2016      550000.0   25000.0   Petrol   \n",
       "7         Tata Indigo Grand Petroll  2014      240000.0   60000.0   Petrol   \n",
       "8          Hyundai Creta 1.6 VTVT S  2015      850000.0   25000.0  Petroll   \n",
       "9          Maruti Celerio Green VXI  2017      365000.0   78000.0      CNG   \n",
       "10          Chevrolet Sail 1.2 Base  2015      260000.0   35000.0   Petrol   \n",
       "11         Tata Indigo Grand Petrol  2014      250000.0  100000.0   Petrol   \n",
       "12  Toyota Corolla Altis 1.8 VL CVT  2018     1650000.0   25000.0   Petrol   \n",
       "13                    Maruti 800 AC  2007       60000.0   70000.0   Petrol   \n",
       "14         Maruti Wagon R LXI Minor  2007      135000.0   50000.0   Petrol   \n",
       "15             Hyundai Verna 1.6 SX  2012      600000.0  100000.0   Diesel   \n",
       "16           Datsun RediGO T Option  2017      250000.0   46000.0   Petrol   \n",
       "17            Honda Amaze VX i-DTEC  2014      450000.0  141000.0   Diesel   \n",
       "18             Maruti Alto LX BSIII  2007      140000.0  125000.0   Petrol   \n",
       "19        Hyundai Xcent 1.2 Kappa S  2016      550000.0   25000.0   Petrol   \n",
       "\n",
       "   seller_Type transmission         owner  \n",
       "0   Individual       Manual   First Owner  \n",
       "1   Individual       Manual   First Owner  \n",
       "2   Individual       Manual   First Owner  \n",
       "3   Individual       Manual   First Owner  \n",
       "4   Individual       Manual  Second Owner  \n",
       "5   Individual       Manual   First Owner  \n",
       "6   Individual       Manual   First Owner  \n",
       "7   Individual       Manual  Second Owner  \n",
       "8   Individual       Manual   First Owner  \n",
       "9   Individual       Manual   First Owner  \n",
       "10  Individual       Manual   First Owner  \n",
       "11  Individual       Manual   First Owner  \n",
       "12      Dealer    Automatic   First Owner  \n",
       "13  Individual       Manual   First Owner  \n",
       "14  Individual       Manual   First Owner  \n",
       "15  Individual       Manual   First Owner  \n",
       "16  Individual       Manual   First Owner  \n",
       "17  Individual       Manual  Second Owner  \n",
       "18  Individual       Manual   First Owner  \n",
       "19  Individual       Manual   First Owner  "
      ]
     },
     "execution_count": 2,
     "metadata": {},
     "output_type": "execute_result"
    }
   ],
   "source": [
    "# применить метод head\n",
    "df.head(20)"
   ]
  },
  {
   "cell_type": "markdown",
   "metadata": {
    "id": "Ze-lXxLMhpWv"
   },
   "source": [
    "2.2 Оценка данных с помощью метода info.\n",
    "Метод info предоставляет информацию о таблице, включая все колонки, типы данных и использование памяти."
   ]
  },
  {
   "cell_type": "code",
   "execution_count": 3,
   "metadata": {
    "id": "bjhngmaLiGM-"
   },
   "outputs": [
    {
     "name": "stdout",
     "output_type": "stream",
     "text": [
      "<class 'pandas.core.frame.DataFrame'>\n",
      "RangeIndex: 4344 entries, 0 to 4343\n",
      "Data columns (total 8 columns):\n",
      " #   Column        Non-Null Count  Dtype  \n",
      "---  ------        --------------  -----  \n",
      " 0   Name          4344 non-null   object \n",
      " 1   year          4344 non-null   int64  \n",
      " 2   SellingPrice  4342 non-null   float64\n",
      " 3   kmdriven      4343 non-null   float64\n",
      " 4   fuel          4343 non-null   object \n",
      " 5   seller_Type   4344 non-null   object \n",
      " 6   transmission  4344 non-null   object \n",
      " 7   owner         4344 non-null   object \n",
      "dtypes: float64(2), int64(1), object(5)\n",
      "memory usage: 271.6+ KB\n"
     ]
    }
   ],
   "source": [
    "# выполнит метод info\n",
    "df.info()"
   ]
  },
  {
   "cell_type": "markdown",
   "metadata": {
    "id": "06PDq9DAiMAY"
   },
   "source": [
    "2.3 Оценка данных с помощью метода describe.\n",
    "Метод describe описывает определённые столбцы таблицы. В случае с числовыми значениями подсчитываются максимальные, минимальные, средние значения, количество записей с определённой планкой, а так же стандартное отклонение."
   ]
  },
  {
   "cell_type": "code",
   "execution_count": 4,
   "metadata": {
    "id": "06PDq9DAiMAY"
   },
   "outputs": [
    {
     "data": {
      "text/html": [
       "<div>\n",
       "<style scoped>\n",
       "    .dataframe tbody tr th:only-of-type {\n",
       "        vertical-align: middle;\n",
       "    }\n",
       "\n",
       "    .dataframe tbody tr th {\n",
       "        vertical-align: top;\n",
       "    }\n",
       "\n",
       "    .dataframe thead th {\n",
       "        text-align: right;\n",
       "    }\n",
       "</style>\n",
       "<table border=\"1\" class=\"dataframe\">\n",
       "  <thead>\n",
       "    <tr style=\"text-align: right;\">\n",
       "      <th></th>\n",
       "      <th>year</th>\n",
       "      <th>SellingPrice</th>\n",
       "      <th>kmdriven</th>\n",
       "    </tr>\n",
       "  </thead>\n",
       "  <tbody>\n",
       "    <tr>\n",
       "      <th>count</th>\n",
       "      <td>4344.000000</td>\n",
       "      <td>4.342000e+03</td>\n",
       "      <td>4343.000000</td>\n",
       "    </tr>\n",
       "    <tr>\n",
       "      <th>mean</th>\n",
       "      <td>2013.092311</td>\n",
       "      <td>5.039987e+05</td>\n",
       "      <td>66193.063320</td>\n",
       "    </tr>\n",
       "    <tr>\n",
       "      <th>std</th>\n",
       "      <td>4.214543</td>\n",
       "      <td>5.784465e+05</td>\n",
       "      <td>46636.648764</td>\n",
       "    </tr>\n",
       "    <tr>\n",
       "      <th>min</th>\n",
       "      <td>1992.000000</td>\n",
       "      <td>2.000000e+04</td>\n",
       "      <td>1.000000</td>\n",
       "    </tr>\n",
       "    <tr>\n",
       "      <th>25%</th>\n",
       "      <td>2011.000000</td>\n",
       "      <td>2.100000e+05</td>\n",
       "      <td>35000.000000</td>\n",
       "    </tr>\n",
       "    <tr>\n",
       "      <th>50%</th>\n",
       "      <td>2014.000000</td>\n",
       "      <td>3.500000e+05</td>\n",
       "      <td>60000.000000</td>\n",
       "    </tr>\n",
       "    <tr>\n",
       "      <th>75%</th>\n",
       "      <td>2016.000000</td>\n",
       "      <td>6.000000e+05</td>\n",
       "      <td>90000.000000</td>\n",
       "    </tr>\n",
       "    <tr>\n",
       "      <th>max</th>\n",
       "      <td>2020.000000</td>\n",
       "      <td>8.900000e+06</td>\n",
       "      <td>806599.000000</td>\n",
       "    </tr>\n",
       "  </tbody>\n",
       "</table>\n",
       "</div>"
      ],
      "text/plain": [
       "              year  SellingPrice       kmdriven\n",
       "count  4344.000000  4.342000e+03    4343.000000\n",
       "mean   2013.092311  5.039987e+05   66193.063320\n",
       "std       4.214543  5.784465e+05   46636.648764\n",
       "min    1992.000000  2.000000e+04       1.000000\n",
       "25%    2011.000000  2.100000e+05   35000.000000\n",
       "50%    2014.000000  3.500000e+05   60000.000000\n",
       "75%    2016.000000  6.000000e+05   90000.000000\n",
       "max    2020.000000  8.900000e+06  806599.000000"
      ]
     },
     "execution_count": 4,
     "metadata": {},
     "output_type": "execute_result"
    }
   ],
   "source": [
    "df.describe()"
   ]
  },
  {
   "cell_type": "code",
   "execution_count": 5,
   "metadata": {
    "id": "cTVFwzO1jQfN"
   },
   "outputs": [
    {
     "name": "stdout",
     "output_type": "stream",
     "text": [
      "count    4344.000000\n",
      "mean     2013.092311\n",
      "std         4.214543\n",
      "min      1992.000000\n",
      "25%      2011.000000\n",
      "50%      2014.000000\n",
      "75%      2016.000000\n",
      "max      2020.000000\n",
      "Name: year, dtype: float64\n",
      "------------\n",
      "count    4.342000e+03\n",
      "mean     5.039987e+05\n",
      "std      5.784465e+05\n",
      "min      2.000000e+04\n",
      "25%      2.100000e+05\n",
      "50%      3.500000e+05\n",
      "75%      6.000000e+05\n",
      "max      8.900000e+06\n",
      "Name: SellingPrice, dtype: float64\n",
      "------------\n",
      "count      4343.000000\n",
      "mean      66193.063320\n",
      "std       46636.648764\n",
      "min           1.000000\n",
      "25%       35000.000000\n",
      "50%       60000.000000\n",
      "75%       90000.000000\n",
      "max      806599.000000\n",
      "Name: kmdriven, dtype: float64\n"
     ]
    }
   ],
   "source": [
    "# оцените числовые столбцы с помощью describe\n",
    "year_ds = df.year.describe()\n",
    "print(year_ds)\n",
    "print(\"------------\")\n",
    "price_ds = df.SellingPrice.describe()\n",
    "print(price_ds)\n",
    "print(\"------------\")\n",
    "km_ds = df.kmdriven.describe()\n",
    "print(km_ds)"
   ]
  },
  {
   "cell_type": "markdown",
   "metadata": {
    "id": "oOZUrZGuiGqc"
   },
   "source": [
    "\n",
    "---\n",
    "\n",
    "**Сделать выводы. Вы должны понимать, что означает тот или иной столбец, чтобы\n",
    " ответить на вопросы на защите.**\n",
    "\n",
    "\n",
    " ---\n"
   ]
  },
  {
   "cell_type": "markdown",
   "metadata": {
    "id": "JTbo0IGDiHxn"
   },
   "source": [
    " 2.4 Оценка названий столбцов\n",
    " Для вывода имён столбцов можно использовать как метод info, так и перебор колонок циклом for in с выводом имён стобцов.\n",
    " Для удобства работы с данными все названия столбцов должны писаться по общим правилам, будь то малыми буквами, заглавными, с использованием нижнего подчёркивания вместо пробела или просто его остутствием. В случае данного задания столбец seller_Type записан с использованием нижнего подчёркивания с строчной букваой в начале и заглавной после подчёркивания, в то время как kmdriven и SellingPrice записаны без разделителя. Для переименования можно использовать несколько вариантов: \n",
    "- Функцию rename с указанием в параметрах имён столбцов для переименования;\n",
    "- Заменой имён столбцов другими именами столбцов через присваивание. df.columns хранит имена столбцов и позволяет изменять их.   "
   ]
  },
  {
   "cell_type": "code",
   "execution_count": 6,
   "metadata": {
    "id": "9NEyi2Odik3e"
   },
   "outputs": [
    {
     "name": "stdout",
     "output_type": "stream",
     "text": [
      "---- Before rename ----\n",
      "Name\n",
      "year\n",
      "SellingPrice\n",
      "kmdriven\n",
      "fuel\n",
      "seller_Type\n",
      "transmission\n",
      "owner\n"
     ]
    }
   ],
   "source": [
    "# url = \"https://github.com/NeonNik2245/guap_homework_public/blob/main/data_analyze/lab_1/auto.csv?raw=true\"\n",
    "# df = pd.read_csv(url)\n",
    "\n",
    "# Вывести на экран названия столбцов с помощью df.columns. Выявить проблемы с названиями, если они есть. \n",
    "# При необходимости переименовать столбцы. Если проблемы не обнаружены также дать пояснения.\n",
    "\n",
    "print(\"---- Before rename ----\")\n",
    "for i in df.columns:\n",
    "    print(i)\n"
   ]
  },
  {
   "cell_type": "code",
   "execution_count": 7,
   "metadata": {
    "id": "QSJBLl4qjjP8"
   },
   "outputs": [
    {
     "name": "stdout",
     "output_type": "stream",
     "text": [
      "---- After rename ----\n",
      "name\n",
      "year\n",
      "selling_price\n",
      "km_driven\n",
      "fuel\n",
      "seller_type\n",
      "transmission\n",
      "owner\n"
     ]
    }
   ],
   "source": [
    "# переименование при необходимости\n",
    "\n",
    "# Мне не нравятся заглавные буквы и названия SellingPrice и kmdriven. \n",
    "# Переименуем все столбцы в нижний регистр, заменим имена упомянутым двум столбцам\n",
    "\n",
    "# Переименуем отдельные столбцы через словарь \n",
    "df = df.rename(columns={'SellingPrice': 'selling_price', 'kmdriven': 'km_driven'})\n",
    "# Переименование через массив (на деле тут класс pandas.core.indexes.base.Index)\n",
    "df.columns = df.columns.str.lower()\n",
    "\n",
    "# Проверим\n",
    "print(\"---- After rename ----\")\n",
    "for i in df.columns:\n",
    "    print(i)"
   ]
  },
  {
   "cell_type": "markdown",
   "metadata": {
    "id": "V0tLQcyrjnA_"
   },
   "source": [
    "### 3. Проверка пропусков\n",
    "Стоит держать в голове, что в зависимости от задания заполнение может или оказывать влияние на результат, или не оказывать.\n",
    "Как пример - в расчёте количества машин по годам не имеет значения пробег, его можно заполнить, а вот год машины уже нельзя заполнять своим значением\n",
    "\n",
    "Несколько способов заполнения:\n",
    "- Заменять столбцы, в виде df[column] = df[column].fillna(значение) - переберёт все строки и в пустые значения поставит указанное;\n",
    "- При заполнении пустых значений строками (по типу 'N/A' надо будет исп. сл. конструкцию - df.loc[df['column1']=='N/A', 'column1'] = 'new_value', где первое значение \"df['column1']=='N/A'\" - условие для нахождения строк, а второе значение \"'column1'\" - отбираемый столбец. После исполнения все значения в столбце по указанному условию заменятся значением 'new_value';\n",
    "- Удалять строки (или столбцы) через dropna(), в который помещается массив с указанием столбцов, по которым надо проводить удаления."
   ]
  },
  {
   "cell_type": "code",
   "execution_count": 8,
   "metadata": {
    "id": "xuTz-Avjj9AW"
   },
   "outputs": [
    {
     "name": "stdout",
     "output_type": "stream",
     "text": [
      "В основной таблице \n",
      " count      4343.000000\n",
      "mean      66193.063320\n",
      "std       46636.648764\n",
      "min           1.000000\n",
      "25%       35000.000000\n",
      "50%       60000.000000\n",
      "75%       90000.000000\n",
      "max      806599.000000\n",
      "Name: km_driven, dtype: float64\n",
      "\n",
      " Во второй таблице после заполнения \n",
      " count      4344.000000\n",
      "mean      66177.825506\n",
      "std       46642.093059\n",
      "min           0.000000\n",
      "25%       35000.000000\n",
      "50%       60000.000000\n",
      "75%       90000.000000\n",
      "max      806599.000000\n",
      "Name: km_driven, dtype: float64\n",
      "\n",
      " После чистки строчек с пустой ценой: \n",
      " count    4.342000e+03\n",
      "mean     5.039987e+05\n",
      "std      5.784465e+05\n",
      "min      2.000000e+04\n",
      "25%      2.100000e+05\n",
      "50%      3.500000e+05\n",
      "75%      6.000000e+05\n",
      "max      8.900000e+06\n",
      "Name: selling_price, dtype: float64\n"
     ]
    }
   ],
   "source": [
    "# Проверить данные на наличие пропусков и устранить их, если они есть (пропуски необходимо либо удалить, либо заменить каким-то значением).\n",
    "\n",
    "# Стоит держать в голове, что в зависимости от задания заполнение может или оказывать влияние на результат, или не оказывать\n",
    "# Как пример - в расчёте количества машин по годам не имеет значения пробег, его можно заполнить, а вот год машины уже нельзя заполнять своим значением\n",
    "\n",
    "# Несколько способов заполнения:\n",
    "# - Заменять столбцы, в виде df[column] = df[column].fillna(значение)\n",
    "# - При заполнении пустых значений строками (по типу 'N/A' надо будет исп. сл. конструкцию - df.loc[df['column1']=='N/A', 'column1'] = 'new_value'\n",
    "# - Удалять строки (или столбцы) через dropna(), в который помещается массив\n",
    "\n",
    "# Заполним колонку km_driven нулём (будем считать, что машина не ездила)\n",
    "km_ds = df.km_driven.describe()\n",
    "print(\"В основной таблице \\n\", km_ds)\n",
    "\n",
    "# df_changed = df\n",
    "df[\"km_driven\"] = df['km_driven'].fillna(0)\n",
    "\n",
    "km_ds_changed = df.km_driven.describe()\n",
    "print(\"\\n Во второй таблице после заполнения \\n\", km_ds_changed)\n",
    "\n",
    "# Стало на одно значение больше, это из-за строки 4344, которая была незаполнена\n",
    "\n",
    "# А строки с пустой ценой надо удалять, поэтому по полю selling_price надо провести удаление. subset Определяет, по каким полям проводить удаление\n",
    "# Иным способом можно было сделать удаление со словарём, указав {'selling_price' : [np.nan]}\n",
    "df.dropna(subset=['selling_price'])\n",
    "price_ds_changed = df.selling_price.describe()\n",
    "print(\"\\n После чистки строчек с пустой ценой: \\n\", price_ds_changed)\n",
    "\n",
    "# Две строки удалены - 4344 и 4345"
   ]
  },
  {
   "cell_type": "markdown",
   "metadata": {
    "id": "efZ7vgSVkPQH"
   },
   "source": [
    "\n",
    "---\n",
    "\n",
    "**Вы должны аргументировать на защите, почему были выполнены те или иные действия с пропусками, а также знать другие способы работы с пропусками, чтобы\n",
    " ответить на вопросы на защите.**\n",
    "\n",
    "\n",
    " ---"
   ]
  },
  {
   "cell_type": "markdown",
   "metadata": {
    "id": "kkyrXXHikEXk"
   },
   "source": [
    "### 4. Проверка дубликатов"
   ]
  },
  {
   "cell_type": "markdown",
   "metadata": {
    "id": "ImqHvr3okIQ6"
   },
   "source": [
    "#### Проверка явных дубликатов\n",
    "Явные дубликаты являются задублированными строчками с одинаковыми значениями во всех ячейках, для их нахождения используется dublicated, а для удаления drop_dublicates."
   ]
  },
  {
   "cell_type": "code",
   "execution_count": 9,
   "metadata": {
    "id": "qu1oh-e5lDZ1"
   },
   "outputs": [
    {
     "name": "stdout",
     "output_type": "stream",
     "text": [
      "763\n"
     ]
    }
   ],
   "source": [
    "# Пересчёт дубликатов\n",
    "print(df.duplicated().sum())"
   ]
  },
  {
   "cell_type": "code",
   "execution_count": 10,
   "metadata": {
    "id": "ntArgvChkK26"
   },
   "outputs": [
    {
     "name": "stdout",
     "output_type": "stream",
     "text": [
      "В оригинальной таблице  4344  строк\n",
      "После удаления дубликатов  3581  строк\n"
     ]
    }
   ],
   "source": [
    "# удалите дубликаты, если они есть (763 строки)\n",
    "\n",
    "# Чтобы не затрагивать оригинальные данные - сделаем копию\n",
    "\n",
    "df_with_del = df.drop_duplicates() # удаление дубликатов\n",
    "\n",
    "# Сравним:\n",
    "print(\"В оригинальной таблице \", len(df), \" строк\")\n",
    "print(\"После удаления дубликатов \", len(df_with_del), \" строк\")\n",
    "\n",
    "df = df_with_del"
   ]
  },
  {
   "cell_type": "markdown",
   "metadata": {
    "id": "VeHTMcOmkLSw"
   },
   "source": [
    "#### Проверка неявных дубликатов\n",
    "Неявные дубликаты - дубликаты, имеющие ошибки в данных или расхождение в написании одних и тех же данных, например, если в двух записях встречаются значения \"Не заполнено\", \"N/A\" и df.na, то они логически являются дубликатами, но программно нет - оттуда и название \"неявные дубликаты\". Они также могут быть вызваны неправильным написанием данных. Для нахождения таких можно использовать функцию unique, возвращающую уникальные значения из указанных элементов данных.\n",
    "В данном наборе данных есть неявные дубликаты в виде значений Petroll (вместо Petrol) и Dealeer (вместо Dealer) в столбцах fuel и seller_type. Для их замены можно применить функцию replace, указав в ней имена дубликатов и значение, на которое нужно заменить все дубликаты. "
   ]
  },
  {
   "cell_type": "code",
   "execution_count": 11,
   "metadata": {
    "id": "-uOPKHlVlGo8"
   },
   "outputs": [
    {
     "name": "stdout",
     "output_type": "stream",
     "text": [
      "В столбце ТОПЛИВО есть:  ['Petrol' 'Diesel' 'Petroll' 'CNG' 'LPG' 'Electric' nan]\n",
      "В столбце ТИП ПРОДАВЦА есть:  ['Individual' 'Dealer' 'Dealeer' 'Trustmark Dealer']\n",
      "В столбце КОРОБКА ПЕРЕДАЧ есть:  ['Manual' 'Automatic']\n",
      "В столбце ТИП ВЛАДЕЛЬЦА есть:  ['First Owner' 'Second Owner' 'Fourth & Above Owner' 'Third Owner'\n",
      " 'Test Drive Car']\n"
     ]
    }
   ],
   "source": [
    "# Неявные дубликаты возникают при дублировании столбцов или строк с одинаковыми значениями в разных форматах.\n",
    "# Например если бы были поля price и selling_price - это были бы неявные дубликаты.\n",
    "\n",
    "# Получим уникальные значения с помощью df[строка].unique()\n",
    "print(\"В столбце ТОПЛИВО есть: \", df['fuel'].unique())\n",
    "print(\"В столбце ТИП ПРОДАВЦА есть: \", df['seller_type'].unique())\n",
    "print(\"В столбце КОРОБКА ПЕРЕДАЧ есть: \", df['transmission'].unique())\n",
    "print(\"В столбце ТИП ВЛАДЕЛЬЦА есть: \", df['owner'].unique())"
   ]
  },
  {
   "cell_type": "code",
   "execution_count": 12,
   "metadata": {
    "id": "89tMFEQ2k_M7"
   },
   "outputs": [
    {
     "name": "stdout",
     "output_type": "stream",
     "text": [
      "В столбце ТОПЛИВО есть:  ['Petrol' 'Diesel' 'CNG' 'LPG' 'Electric' nan]\n",
      "В столбце ТИП ПРОДАВЦА есть:  ['Individual' 'Dealer' 'Trustmark Dealer']\n"
     ]
    }
   ],
   "source": [
    "# удалите дубликаты, если они есть\n",
    "# Дубликаты есть в столбцах тип продавца и топливо.\n",
    "\n",
    "duplicate = 'Petroll' # список неправильных названий\n",
    "name = 'Petrol'# правильное название\n",
    "df['fuel'] = df['fuel'].replace(duplicate, name)\n",
    "\n",
    "duplicate = 'Dealeer' # список неправильных названий\n",
    "name = 'Dealer'# правильное название\n",
    "df['seller_type'] = df['seller_type'].replace(duplicate, name)\n",
    "\n",
    "print(\"В столбце ТОПЛИВО есть: \", df['fuel'].unique())\n",
    "print(\"В столбце ТИП ПРОДАВЦА есть: \", df['seller_type'].unique())"
   ]
  },
  {
   "cell_type": "markdown",
   "metadata": {
    "id": "GMcnDpOmlKhU"
   },
   "source": [
    "---\n",
    "\n",
    "**Вы должны аргументировать на защите, почему были выполнены те или иные действия с дубликатами, знать, что такое явные и неявные дубликаты и способы работы с ними, чтобы ответить на вопросы на защите.**\n",
    "\n",
    "\n",
    " ---"
   ]
  },
  {
   "cell_type": "markdown",
   "metadata": {
    "id": "md9GhfYMlbi7"
   },
   "source": [
    "### 5. Провека типов данных\n",
    "Проверку типов данных можно осуществить функцией info, так как она показывает в столбце dtype значения типов указанных столбцов. При этом можно отдельно вызвать свойство таблицы dtypes.\n",
    "В связи с заданием необходимо выполнить преобразование. Оно производится с применением функции astype({'Колонка':'тип'}), однако перед этим надо удостовериться, что в указанной колонке отсутствуют значения pd.nan, так как они не могут быть преобразованы к новоу типу и будут выдавать ошибки. "
   ]
  },
  {
   "cell_type": "code",
   "execution_count": 13,
   "metadata": {
    "id": "lXTroENaluCW"
   },
   "outputs": [
    {
     "name": "stdout",
     "output_type": "stream",
     "text": [
      "Проверка типов данных с использование info()\n",
      "\n",
      "<class 'pandas.core.frame.DataFrame'>\n",
      "Index: 3581 entries, 0 to 4343\n",
      "Data columns (total 8 columns):\n",
      " #   Column         Non-Null Count  Dtype  \n",
      "---  ------         --------------  -----  \n",
      " 0   name           3581 non-null   object \n",
      " 1   year           3581 non-null   int64  \n",
      " 2   selling_price  3579 non-null   float64\n",
      " 3   km_driven      3581 non-null   float64\n",
      " 4   fuel           3580 non-null   object \n",
      " 5   seller_type    3581 non-null   object \n",
      " 6   transmission   3581 non-null   object \n",
      " 7   owner          3581 non-null   object \n",
      "dtypes: float64(2), int64(1), object(5)\n",
      "memory usage: 251.8+ KB\n",
      "\n",
      "Проверка типов данных с использованием dtypes\n"
     ]
    },
    {
     "data": {
      "text/plain": [
       "name              object\n",
       "year               int64\n",
       "selling_price    float64\n",
       "km_driven        float64\n",
       "fuel              object\n",
       "seller_type       object\n",
       "transmission      object\n",
       "owner             object\n",
       "dtype: object"
      ]
     },
     "execution_count": 13,
     "metadata": {},
     "output_type": "execute_result"
    }
   ],
   "source": [
    "# Поскольку тип данных задаётся столбцам, проверим столбцы\n",
    "print('Проверка типов данных с использование info()\\n')\n",
    "df.info()\n",
    "print ('\\nПроверка типов данных с использованием dtypes')\n",
    "df.dtypes"
   ]
  },
  {
   "cell_type": "code",
   "execution_count": 14,
   "metadata": {
    "id": "WXhXgu29lop3"
   },
   "outputs": [
    {
     "name": "stdout",
     "output_type": "stream",
     "text": [
      "name              object\n",
      "year               int64\n",
      "selling_price    float64\n",
      "km_driven        float64\n",
      "fuel              object\n",
      "seller_type       object\n",
      "transmission      object\n",
      "owner             object\n",
      "dtype: object\n"
     ]
    },
    {
     "data": {
      "text/plain": [
       "name              object\n",
       "year               int64\n",
       "selling_price      int32\n",
       "km_driven        float64\n",
       "fuel              object\n",
       "seller_type       object\n",
       "transmission      object\n",
       "owner             object\n",
       "dtype: object"
      ]
     },
     "execution_count": 14,
     "metadata": {},
     "output_type": "execute_result"
    }
   ],
   "source": [
    "# Проверьте типы данных, при необходимости измените типы данных, чтобы они соответствовали действительности.\n",
    "\n",
    "# Всё правильно, но мы сделаем предположение, что цена продажи должна быть целым числом.\n",
    "\n",
    "# Для этого переведём столбец selling_price в int64\n",
    "# df['selling_price'] =\n",
    "print(df.dtypes)\n",
    "# df.astype({'selling_price': 'int64'}).dtypes\n",
    "# df.info()\n",
    "\n",
    "df = df.dropna(subset=['selling_price']) # Без удаления пустых строк ругается на \n",
    "# IntCastingNaNError: Cannot convert non-finite values (NA or inf) to integer: Error while type casting for column 'selling_price'\n",
    "\n",
    "df.astype({'selling_price': 'int32'}).dtypes"
   ]
  },
  {
   "cell_type": "markdown",
   "metadata": {
    "id": "DPDBNN4dlx7W"
   },
   "source": [
    "---\n",
    "\n",
    "**Обратите внимание, что во всех вариантах необходимо сделать приведение типов. Будьте готовы на защите аргументировать проверку типов (почему выполнены те или иные преобразования).**\n",
    "\n",
    "\n",
    " ---"
   ]
  },
  {
   "cell_type": "markdown",
   "metadata": {
    "id": "lzr0SgqlnmHy"
   },
   "source": [
    "### 6. Группировка данных"
   ]
  },
  {
   "cell_type": "markdown",
   "metadata": {
    "id": "QG_dbwzfmZoS"
   },
   "source": [
    "#### Задание 1"
   ]
  },
  {
   "cell_type": "markdown",
   "metadata": {
    "id": "CyCKTB4DmciW"
   },
   "source": [
    "Группировка - тип топлива (fuel) по количеству типа продавца (seller_type)\n",
    "Группировка исполняется через функцию groupby, в ней параметрами указывается список столбцов, по которым надо выполнять группировку. Далее можно выбрать любой столбец и выполнить с ним различные математические действия, в случае задания - подсчитать количество записей."
   ]
  },
  {
   "cell_type": "code",
   "execution_count": 15,
   "metadata": {
    "id": "tp8Bl1gumYlI"
   },
   "outputs": [
    {
     "data": {
      "text/plain": [
       "fuel      seller_type     \n",
       "CNG       Dealer                 9\n",
       "          Individual            28\n",
       "Diesel    Dealer               377\n",
       "          Individual          1409\n",
       "          Trustmark Dealer      14\n",
       "Electric  Dealer                 1\n",
       "LPG       Dealer                 1\n",
       "          Individual            21\n",
       "Petrol    Dealer               324\n",
       "          Individual          1376\n",
       "          Trustmark Dealer      19\n",
       "Name: seller_type, dtype: int64"
      ]
     },
     "execution_count": 15,
     "metadata": {},
     "output_type": "execute_result"
    }
   ],
   "source": [
    "# выполните группировку согласно варианту\n",
    "\n",
    "df.groupby(['fuel','seller_type'])['seller_type'].count()\n"
   ]
  },
  {
   "cell_type": "markdown",
   "metadata": {
    "id": "jLmhNuq0mms3"
   },
   "source": [
    "Из полученных данных можно выявить несколько фактов:\n",
    "- Проверенные \"Trustmark\" диллеры продают мешины только с типом топлива бензин и дизель.\n",
    "- Подавляющее большинство автомобилей продаются индивидуальными лицами.\n",
    "- Бензин и дизель имеют более 2700 предложений о продаже, в то время как электрические машины одно, на газе - 37, на LPG - 22.\n",
    "\n",
    "Информация, которую можно получить из этих фактов:\n",
    "- На рынке подержаных авто легче всего купить машину на дизеле или бензине;\n",
    "- Легче всего найти авто у индивидуального лица, а не у диллера."
   ]
  },
  {
   "cell_type": "markdown",
   "metadata": {
    "id": "quMr70SmnMXS"
   },
   "source": [
    "---\n",
    "\n",
    "**Обратите внимание, что на защите вы должны ориентироваться в синтаксисе. При необходимости нужно быть готовым изменить код по просьбе преподавателя. Например, вместо среднего значения подсчитать медиану и т.д.**\n",
    "\n",
    "\n",
    " ---"
   ]
  },
  {
   "cell_type": "markdown",
   "metadata": {
    "id": "j0isGCzEne7a"
   },
   "source": [
    "#### Задание 2"
   ]
  },
  {
   "cell_type": "markdown",
   "metadata": {
    "id": "kE2vLBWbne7a"
   },
   "source": [
    "Группировка - тип топлива (fuel) по количеству типа продавца (seller_type). Создать датафрейм. Переименовать столбец с количеством в “сount”. Отсортировать по убыванию столбца “count”. "
   ]
  },
  {
   "cell_type": "code",
   "execution_count": 16,
   "metadata": {
    "id": "ttn78Zaene7a"
   },
   "outputs": [
    {
     "data": {
      "text/html": [
       "<div>\n",
       "<style scoped>\n",
       "    .dataframe tbody tr th:only-of-type {\n",
       "        vertical-align: middle;\n",
       "    }\n",
       "\n",
       "    .dataframe tbody tr th {\n",
       "        vertical-align: top;\n",
       "    }\n",
       "\n",
       "    .dataframe thead th {\n",
       "        text-align: right;\n",
       "    }\n",
       "</style>\n",
       "<table border=\"1\" class=\"dataframe\">\n",
       "  <thead>\n",
       "    <tr style=\"text-align: right;\">\n",
       "      <th></th>\n",
       "      <th>fuel</th>\n",
       "      <th>seller_type</th>\n",
       "      <th>count</th>\n",
       "    </tr>\n",
       "  </thead>\n",
       "  <tbody>\n",
       "    <tr>\n",
       "      <th>0</th>\n",
       "      <td>Diesel</td>\n",
       "      <td>Individual</td>\n",
       "      <td>1409</td>\n",
       "    </tr>\n",
       "    <tr>\n",
       "      <th>1</th>\n",
       "      <td>Petrol</td>\n",
       "      <td>Individual</td>\n",
       "      <td>1376</td>\n",
       "    </tr>\n",
       "    <tr>\n",
       "      <th>2</th>\n",
       "      <td>Diesel</td>\n",
       "      <td>Dealer</td>\n",
       "      <td>377</td>\n",
       "    </tr>\n",
       "    <tr>\n",
       "      <th>3</th>\n",
       "      <td>Petrol</td>\n",
       "      <td>Dealer</td>\n",
       "      <td>324</td>\n",
       "    </tr>\n",
       "    <tr>\n",
       "      <th>4</th>\n",
       "      <td>CNG</td>\n",
       "      <td>Individual</td>\n",
       "      <td>28</td>\n",
       "    </tr>\n",
       "    <tr>\n",
       "      <th>5</th>\n",
       "      <td>LPG</td>\n",
       "      <td>Individual</td>\n",
       "      <td>21</td>\n",
       "    </tr>\n",
       "    <tr>\n",
       "      <th>6</th>\n",
       "      <td>Petrol</td>\n",
       "      <td>Trustmark Dealer</td>\n",
       "      <td>19</td>\n",
       "    </tr>\n",
       "    <tr>\n",
       "      <th>7</th>\n",
       "      <td>Diesel</td>\n",
       "      <td>Trustmark Dealer</td>\n",
       "      <td>14</td>\n",
       "    </tr>\n",
       "    <tr>\n",
       "      <th>8</th>\n",
       "      <td>CNG</td>\n",
       "      <td>Dealer</td>\n",
       "      <td>9</td>\n",
       "    </tr>\n",
       "    <tr>\n",
       "      <th>9</th>\n",
       "      <td>LPG</td>\n",
       "      <td>Dealer</td>\n",
       "      <td>1</td>\n",
       "    </tr>\n",
       "    <tr>\n",
       "      <th>10</th>\n",
       "      <td>Electric</td>\n",
       "      <td>Dealer</td>\n",
       "      <td>1</td>\n",
       "    </tr>\n",
       "  </tbody>\n",
       "</table>\n",
       "</div>"
      ],
      "text/plain": [
       "        fuel       seller_type  count\n",
       "0     Diesel        Individual   1409\n",
       "1     Petrol        Individual   1376\n",
       "2     Diesel            Dealer    377\n",
       "3     Petrol            Dealer    324\n",
       "4        CNG        Individual     28\n",
       "5        LPG        Individual     21\n",
       "6     Petrol  Trustmark Dealer     19\n",
       "7     Diesel  Trustmark Dealer     14\n",
       "8        CNG            Dealer      9\n",
       "9        LPG            Dealer      1\n",
       "10  Electric            Dealer      1"
      ]
     },
     "execution_count": 16,
     "metadata": {},
     "output_type": "execute_result"
    }
   ],
   "source": [
    "# выполните группировку согласно варианту\n",
    "\n",
    "# dfcopy = df.groupby(['fuel','seller_type']).agg({'name': ['count']}).reset_index() # Но здесь не ресетается индекс\n",
    "dfcopy = pd.DataFrame(df.groupby(['fuel','seller_type'])['name'].count().sort_values(ascending = False))\n",
    "\n",
    "# print(type(dfcopy))\n",
    "\n",
    "# dfcopy.rename(columns= {'count':'Total_Numbers'})\n",
    "dfcopy.reset_index(inplace = True)\n",
    "dfcopy.rename(columns={'name':'count'}, inplace=True)\n",
    "\n",
    "dfcopy"
   ]
  },
  {
   "cell_type": "markdown",
   "metadata": {
    "id": "HCyyeAu6ne7a"
   },
   "source": [
    "**`Сделайте вывод - интерпретацию - что можно увидеть из результата данной группировки?`**\n",
    "\n",
    "Из данной группировки видно следующую информацию:\n",
    "\n",
    "- Наибольшее количество машин в каждой категории продаётся индивидуальными лицами\n",
    "- Лидирующие места занимают машины на бензине и дизеле\n",
    "- Машин на бензине незначительно больше машин на дизеле, что указывает на почти одинаковое предпочтение машин с дизельным и бензиновым двигателями\n",
    "- Предложений от проверенных диллеров даже на самые крупные группы машин сильно меньше, чем предложение от обычных диллеров и индивидуальных лиц\n",
    "- Электрические машины ещё не начали появляться на вторичном рынке"
   ]
  },
  {
   "cell_type": "markdown",
   "metadata": {
    "id": "NKLZ0m7Nne7b"
   },
   "source": [
    "---\n",
    "\n",
    "**Обратите внимание, что на защите вы должны ориентироваться в синтаксисе. При необходимости нужно быть готовым изменить код по просьбе преподавателя. Например, вместо среднего значения подсчитать медиану и т.д.**\n",
    "\n",
    "\n",
    " ---"
   ]
  },
  {
   "cell_type": "markdown",
   "metadata": {
    "id": "_3fHGp64nhUJ"
   },
   "source": [
    "#### Задание 3"
   ]
  },
  {
   "cell_type": "markdown",
   "metadata": {
    "id": "_Bc4ehyKnhUJ"
   },
   "source": [
    "Сводная таблица (pivot_table) - среднее количество пройденных километров для каждого типа года year. Отсортировать по убыванию. Округлить до двух знаков. "
   ]
  },
  {
   "cell_type": "code",
   "execution_count": 17,
   "metadata": {
    "id": "siDovPvQnhUJ"
   },
   "outputs": [
    {
     "data": {
      "text/html": [
       "<div>\n",
       "<style scoped>\n",
       "    .dataframe tbody tr th:only-of-type {\n",
       "        vertical-align: middle;\n",
       "    }\n",
       "\n",
       "    .dataframe tbody tr th {\n",
       "        vertical-align: top;\n",
       "    }\n",
       "\n",
       "    .dataframe thead th {\n",
       "        text-align: right;\n",
       "    }\n",
       "</style>\n",
       "<table border=\"1\" class=\"dataframe\">\n",
       "  <thead>\n",
       "    <tr style=\"text-align: right;\">\n",
       "      <th></th>\n",
       "      <th>km_driven</th>\n",
       "    </tr>\n",
       "    <tr>\n",
       "      <th>year</th>\n",
       "      <th></th>\n",
       "    </tr>\n",
       "  </thead>\n",
       "  <tbody>\n",
       "    <tr>\n",
       "      <th>2006</th>\n",
       "      <td>102916.10</td>\n",
       "    </tr>\n",
       "    <tr>\n",
       "      <th>1995</th>\n",
       "      <td>100000.00</td>\n",
       "    </tr>\n",
       "    <tr>\n",
       "      <th>1992</th>\n",
       "      <td>100000.00</td>\n",
       "    </tr>\n",
       "    <tr>\n",
       "      <th>2009</th>\n",
       "      <td>96822.59</td>\n",
       "    </tr>\n",
       "    <tr>\n",
       "      <th>2010</th>\n",
       "      <td>93851.62</td>\n",
       "    </tr>\n",
       "    <tr>\n",
       "      <th>2007</th>\n",
       "      <td>92119.63</td>\n",
       "    </tr>\n",
       "    <tr>\n",
       "      <th>2004</th>\n",
       "      <td>91407.34</td>\n",
       "    </tr>\n",
       "    <tr>\n",
       "      <th>2011</th>\n",
       "      <td>90983.64</td>\n",
       "    </tr>\n",
       "    <tr>\n",
       "      <th>1997</th>\n",
       "      <td>90000.00</td>\n",
       "    </tr>\n",
       "    <tr>\n",
       "      <th>2008</th>\n",
       "      <td>88914.12</td>\n",
       "    </tr>\n",
       "    <tr>\n",
       "      <th>2005</th>\n",
       "      <td>87897.74</td>\n",
       "    </tr>\n",
       "    <tr>\n",
       "      <th>2001</th>\n",
       "      <td>86743.62</td>\n",
       "    </tr>\n",
       "    <tr>\n",
       "      <th>2012</th>\n",
       "      <td>86123.29</td>\n",
       "    </tr>\n",
       "    <tr>\n",
       "      <th>2003</th>\n",
       "      <td>82792.77</td>\n",
       "    </tr>\n",
       "    <tr>\n",
       "      <th>2002</th>\n",
       "      <td>82555.56</td>\n",
       "    </tr>\n",
       "    <tr>\n",
       "      <th>2013</th>\n",
       "      <td>76548.66</td>\n",
       "    </tr>\n",
       "    <tr>\n",
       "      <th>2014</th>\n",
       "      <td>76406.01</td>\n",
       "    </tr>\n",
       "    <tr>\n",
       "      <th>2000</th>\n",
       "      <td>70936.92</td>\n",
       "    </tr>\n",
       "    <tr>\n",
       "      <th>1998</th>\n",
       "      <td>70000.00</td>\n",
       "    </tr>\n",
       "    <tr>\n",
       "      <th>1999</th>\n",
       "      <td>67446.67</td>\n",
       "    </tr>\n",
       "    <tr>\n",
       "      <th>2015</th>\n",
       "      <td>64279.83</td>\n",
       "    </tr>\n",
       "    <tr>\n",
       "      <th>2016</th>\n",
       "      <td>57607.74</td>\n",
       "    </tr>\n",
       "    <tr>\n",
       "      <th>1996</th>\n",
       "      <td>47500.00</td>\n",
       "    </tr>\n",
       "    <tr>\n",
       "      <th>2017</th>\n",
       "      <td>43072.49</td>\n",
       "    </tr>\n",
       "    <tr>\n",
       "      <th>2018</th>\n",
       "      <td>28524.72</td>\n",
       "    </tr>\n",
       "    <tr>\n",
       "      <th>2019</th>\n",
       "      <td>19772.75</td>\n",
       "    </tr>\n",
       "    <tr>\n",
       "      <th>2020</th>\n",
       "      <td>10961.87</td>\n",
       "    </tr>\n",
       "  </tbody>\n",
       "</table>\n",
       "</div>"
      ],
      "text/plain": [
       "      km_driven\n",
       "year           \n",
       "2006  102916.10\n",
       "1995  100000.00\n",
       "1992  100000.00\n",
       "2009   96822.59\n",
       "2010   93851.62\n",
       "2007   92119.63\n",
       "2004   91407.34\n",
       "2011   90983.64\n",
       "1997   90000.00\n",
       "2008   88914.12\n",
       "2005   87897.74\n",
       "2001   86743.62\n",
       "2012   86123.29\n",
       "2003   82792.77\n",
       "2002   82555.56\n",
       "2013   76548.66\n",
       "2014   76406.01\n",
       "2000   70936.92\n",
       "1998   70000.00\n",
       "1999   67446.67\n",
       "2015   64279.83\n",
       "2016   57607.74\n",
       "1996   47500.00\n",
       "2017   43072.49\n",
       "2018   28524.72\n",
       "2019   19772.75\n",
       "2020   10961.87"
      ]
     },
     "execution_count": 17,
     "metadata": {},
     "output_type": "execute_result"
    }
   ],
   "source": [
    "# выполните сводную таблицу согласно варианту\n",
    "\n",
    "# выполните группировку согласно варианту\n",
    "\n",
    "pivot_data = df.pivot_table(index=['year'],  values='km_driven')\n",
    "pivot_data.sort_values(by='km_driven', ascending=False).round(2)\n",
    "# pivot_data.round(2)\n"
   ]
  },
  {
   "cell_type": "markdown",
   "metadata": {
    "id": "1-vw8iyUnhUK"
   },
   "source": [
    "**`Сделайте вывод - интерпретацию - что можно увидеть из результата данной сводной таблицы?`**\n",
    "\n",
    "Наибольшее расстояние преодолели в среднем машины 2006 года выпуска, при этом машины 2020 года, как самые новые, преодолели наименьшее расстояние. При этом года расположены не по порядку, так, можно увидеть машины 1996 года выпуска с пробегом между 2016 и 2017 годами выпуска, в связи с чем машины этого года было бы выгодно приобрести из-за меньшего износа комплектующих."
   ]
  },
  {
   "cell_type": "markdown",
   "metadata": {
    "id": "wKFm0zDenhUK"
   },
   "source": [
    "---\n",
    "\n",
    "**Обратите внимание, что на защите вы должны ориентироваться в синтаксисе. При необходимости нужно быть готовым изменить код по просьбе преподавателя. Например, вместо среднего значения подсчитать медиану и т.д.**\n",
    "\n",
    "\n",
    " ---"
   ]
  },
  {
   "cell_type": "markdown",
   "metadata": {
    "id": "FOlw74xCniNo"
   },
   "source": [
    "#### Задание 4"
   ]
  },
  {
   "cell_type": "markdown",
   "metadata": {
    "id": "4tvYwT25niNq"
   },
   "source": [
    "Сводная таблица (pivot_table) - среднее количество пройденных километров для каждого типа коробки передач transmission - строки и типа топлива - fuel - столбцы. Отсортировать по возрастанию transmission. Округлить до двух знаков."
   ]
  },
  {
   "cell_type": "code",
   "execution_count": 18,
   "metadata": {
    "id": "TfJ719g6niNq"
   },
   "outputs": [
    {
     "data": {
      "text/html": [
       "<div>\n",
       "<style scoped>\n",
       "    .dataframe tbody tr th:only-of-type {\n",
       "        vertical-align: middle;\n",
       "    }\n",
       "\n",
       "    .dataframe tbody tr th {\n",
       "        vertical-align: top;\n",
       "    }\n",
       "\n",
       "    .dataframe thead th {\n",
       "        text-align: right;\n",
       "    }\n",
       "</style>\n",
       "<table border=\"1\" class=\"dataframe\">\n",
       "  <thead>\n",
       "    <tr style=\"text-align: right;\">\n",
       "      <th>fuel</th>\n",
       "      <th>CNG</th>\n",
       "      <th>Diesel</th>\n",
       "      <th>Electric</th>\n",
       "      <th>LPG</th>\n",
       "      <th>Petrol</th>\n",
       "    </tr>\n",
       "    <tr>\n",
       "      <th>transmission</th>\n",
       "      <th></th>\n",
       "      <th></th>\n",
       "      <th></th>\n",
       "      <th></th>\n",
       "      <th></th>\n",
       "    </tr>\n",
       "  </thead>\n",
       "  <tbody>\n",
       "    <tr>\n",
       "      <th>Automatic</th>\n",
       "      <td>NaN</td>\n",
       "      <td>64705.44</td>\n",
       "      <td>62000.0</td>\n",
       "      <td>NaN</td>\n",
       "      <td>40256.00</td>\n",
       "    </tr>\n",
       "    <tr>\n",
       "      <th>Manual</th>\n",
       "      <td>66551.08</td>\n",
       "      <td>85339.41</td>\n",
       "      <td>NaN</td>\n",
       "      <td>89618.18</td>\n",
       "      <td>55461.95</td>\n",
       "    </tr>\n",
       "  </tbody>\n",
       "</table>\n",
       "</div>"
      ],
      "text/plain": [
       "fuel               CNG    Diesel  Electric       LPG    Petrol\n",
       "transmission                                                  \n",
       "Automatic          NaN  64705.44   62000.0       NaN  40256.00\n",
       "Manual        66551.08  85339.41       NaN  89618.18  55461.95"
      ]
     },
     "execution_count": 18,
     "metadata": {},
     "output_type": "execute_result"
    }
   ],
   "source": [
    "# выполните сводную таблицу согласно варианту\n",
    "\n",
    "pivot_data = df.pivot_table(index=['transmission'], columns='fuel', values='km_driven', aggfunc='mean')\n",
    "pivot_data.round(2)\n"
   ]
  },
  {
   "cell_type": "markdown",
   "metadata": {
    "id": "yqJqvk5qniNr"
   },
   "source": [
    "**`Сделайте вывод - интерпретацию - что можно увидеть из результата выполнения данного кода?`**\n",
    "\n",
    "В отличие от прошлой сводной таблицы здесь информации меньше. Автоматическая трансмиссия начала стабильно появляться в списке с 2003 года, следовательно, все автомобили до 2003 года идут только в зачёт ручной коробки передач и увеличивают среднее преодолённое расстояние.\n",
    "Если смотреть только на полученные данные, то можно сказать, что среднее пройденное расстояние у машин с ручной трансмиссией больше, чем у автоматической трансмиссии.\n",
    "Более полезная информация заключается в том, что у электрических автомобилей нет вариации с ручной коробкой передач, а у сжиженного природного газа нет варианта автоматической трансмиссии."
   ]
  },
  {
   "cell_type": "markdown",
   "metadata": {
    "id": "tIkuqJKUniNs"
   },
   "source": [
    "---\n",
    "\n",
    "**Обратите внимание, что на защите вы должны ориентироваться в синтаксисе. При необходимости нужно быть готовым изменить код по просьбе преподавателя. Например, вместо среднего значения подсчитать медиану и т.д.**\n",
    "\n",
    "\n",
    " ---"
   ]
  },
  {
   "cell_type": "markdown",
   "metadata": {
    "id": "TpnXb6gip3S8"
   },
   "source": [
    "### Вывод"
   ]
  },
  {
   "cell_type": "markdown",
   "metadata": {
    "id": "nqLa096jM1Z8"
   },
   "source": [
    "\n",
    "***`Сделать расширенный вывод. `***\n",
    "\n",
    "В процессе выполнения лабораторной работы были исследованы способы работы с таблицами данных при помощи библиотеки pandas, а также использование jupyter notebook. Для анализа была получена таблица, содержащая информацию о продаваемых машинах со вторичного рынка. Таблица содержала информацию о наименовании авто, годе выпуска автомобиля, пройденном расстоянии, типе продавца, типе топлива и трансмиссии, типе владельца авто до его продажи.\n",
    "После выполнения группировок и составления сводных таблиц была получена информация о рынке, такая как количество автомобилей по типу топлива, среднее пройденное расстояние по различным группировкам. Из выведенных данных можно сказать, что больше всего автомобилей расходуют в качестве топлива бензин или дизель, при этом количество автомобилей с этими типами топлива примерно одинаковое. Также известно, что большая часть (75%) авто продаётся индивидуальными лицами, а не диллерами.\n",
    "Можно добавить информацию о пройденном расстоянии и годе выпуска, так, рекомендуется барть машины последних лет, а также 1996 года, 1998, 1999, 2000 в связи с их небольшим пробегом относительно моделей 2002, 2003, 2012 годов.\n"
   ]
  },
  {
   "cell_type": "markdown",
   "metadata": {
    "id": "Sn3y7og_vjGG"
   },
   "source": [
    "### Дополнительное задание"
   ]
  },
  {
   "cell_type": "markdown",
   "metadata": {
    "id": "rR6WgHXYvlqD"
   },
   "source": [
    "**`Подробная формулировка задания`**"
   ]
  },
  {
   "cell_type": "code",
   "execution_count": 19,
   "metadata": {
    "id": "wG5TGQpevlBq"
   },
   "outputs": [
    {
     "data": {
      "text/plain": [
       "(2, 11, 19, 24)"
      ]
     },
     "execution_count": 19,
     "metadata": {},
     "output_type": "execute_result"
    }
   ],
   "source": [
    "# код выполнения задания\n",
    "\n",
    "2, 11, 19, 24\n"
   ]
  },
  {
   "cell_type": "markdown",
   "metadata": {
    "id": "y-qpTuhTvon3"
   },
   "source": [
    "***`Подробный вывод по заданию, описание полученных результатов`***"
   ]
  },
  {
   "cell_type": "markdown",
   "metadata": {},
   "source": [
    "# Задания:\n",
    "### 2\n",
    "Создать столбец “Категория пробега (kmdriven)” (с помощью категоризации).\n",
    "Выделить минимум 3 категории (маленький, большой, средний), фильтрацию\n",
    "для уровня пробега выбрать самостоятельно, аргументировать выбор. Создать\n",
    "сводную таблицу: средний и медианный пробег по категории пробега и типу\n",
    "продавца (seller type).\n",
    "\n",
    "### 11\n",
    "Создать столбец “Категория стоимости (price)” (с помощью категоризации).\n",
    "Выделить минимум 3 категории (низкая, высокая, средняя), фильтрацию для\n",
    "уровня цены выбрать самостоятельно, аргументировать выбор. Создать\n",
    "сводную таблицу: средняя и медианная price по категории цены и году.\n",
    "\n",
    "### 19\n",
    "Создать столбец “Категория года (year)” (с помощью категоризации).\n",
    "Выделить минимум 3 категории (старая, новая, средняя), фильтрацию для года\n",
    "выбрать самостоятельно, аргументировать выбор. Создать столбец “Категория\n",
    "стоимости (price)” (с помощью категоризации). Выделить минимум 3\n",
    "категории (низкая, высокая, средняя), фильтрацию для уровня цены выбрать\n",
    "самостоятельно, аргументировать выбор. Создать сводную таблицу: средний,\n",
    "медианный пробег по категории года и категории стоимости.\n",
    "\n",
    "### 24\n",
    "Создать столбец “Категория стоимости (price)” (с помощью категоризации).\n",
    "Выделить минимум 3 категории (низкая, высокая, средняя), фильтрацию для\n",
    "уровня цены выбрать самостоятельно, аргументировать выбор. Отфильтровать\n",
    "набор данных. Выбрать только записи, где категория цены= низкая и высокая+\n",
    "выбрать 2 типа топлива с максимальной медианной стоимостью + transmission\n",
    "c максимальным количеством записей + год в определенном диапазоне\n",
    "(диапазон выбрать самостоятельно, чтобы получить в выборке достаточное\n",
    "количество записей). Создать сводные таблицы: owner, year- средний пробег и\n",
    "медианная цена."
   ]
  },
  {
   "cell_type": "code",
   "execution_count": 22,
   "metadata": {},
   "outputs": [
    {
     "data": {
      "text/html": [
       "<div>\n",
       "<style scoped>\n",
       "    .dataframe tbody tr th:only-of-type {\n",
       "        vertical-align: middle;\n",
       "    }\n",
       "\n",
       "    .dataframe tbody tr th {\n",
       "        vertical-align: top;\n",
       "    }\n",
       "\n",
       "    .dataframe thead th {\n",
       "        text-align: right;\n",
       "    }\n",
       "</style>\n",
       "<table border=\"1\" class=\"dataframe\">\n",
       "  <thead>\n",
       "    <tr style=\"text-align: right;\">\n",
       "      <th></th>\n",
       "      <th>name</th>\n",
       "      <th>year</th>\n",
       "      <th>selling_price</th>\n",
       "      <th>km_driven</th>\n",
       "      <th>fuel</th>\n",
       "      <th>seller_type</th>\n",
       "      <th>transmission</th>\n",
       "      <th>owner</th>\n",
       "      <th>kmdriven_category</th>\n",
       "    </tr>\n",
       "  </thead>\n",
       "  <tbody>\n",
       "    <tr>\n",
       "      <th>0</th>\n",
       "      <td>Maruti 800 AC</td>\n",
       "      <td>2007</td>\n",
       "      <td>60000.0</td>\n",
       "      <td>70000.0</td>\n",
       "      <td>Petrol</td>\n",
       "      <td>Individual</td>\n",
       "      <td>Manual</td>\n",
       "      <td>First Owner</td>\n",
       "      <td>medium</td>\n",
       "    </tr>\n",
       "    <tr>\n",
       "      <th>1</th>\n",
       "      <td>Maruti Wagon R LXI Minor</td>\n",
       "      <td>2007</td>\n",
       "      <td>135000.0</td>\n",
       "      <td>50000.0</td>\n",
       "      <td>Petrol</td>\n",
       "      <td>Individual</td>\n",
       "      <td>Manual</td>\n",
       "      <td>First Owner</td>\n",
       "      <td>medium</td>\n",
       "    </tr>\n",
       "    <tr>\n",
       "      <th>2</th>\n",
       "      <td>Hyundai Verna 1.6 SX</td>\n",
       "      <td>2012</td>\n",
       "      <td>600000.0</td>\n",
       "      <td>100000.0</td>\n",
       "      <td>Diesel</td>\n",
       "      <td>Individual</td>\n",
       "      <td>Manual</td>\n",
       "      <td>First Owner</td>\n",
       "      <td>large</td>\n",
       "    </tr>\n",
       "    <tr>\n",
       "      <th>3</th>\n",
       "      <td>Datsun RediGO T Option</td>\n",
       "      <td>2017</td>\n",
       "      <td>250000.0</td>\n",
       "      <td>46000.0</td>\n",
       "      <td>Petrol</td>\n",
       "      <td>Individual</td>\n",
       "      <td>Manual</td>\n",
       "      <td>First Owner</td>\n",
       "      <td>medium</td>\n",
       "    </tr>\n",
       "    <tr>\n",
       "      <th>4</th>\n",
       "      <td>Honda Amaze VX i-DTEC</td>\n",
       "      <td>2014</td>\n",
       "      <td>450000.0</td>\n",
       "      <td>141000.0</td>\n",
       "      <td>Diesel</td>\n",
       "      <td>Individual</td>\n",
       "      <td>Manual</td>\n",
       "      <td>Second Owner</td>\n",
       "      <td>large</td>\n",
       "    </tr>\n",
       "    <tr>\n",
       "      <th>5</th>\n",
       "      <td>Maruti Alto LX BSIII</td>\n",
       "      <td>2007</td>\n",
       "      <td>140000.0</td>\n",
       "      <td>125000.0</td>\n",
       "      <td>Petrol</td>\n",
       "      <td>Individual</td>\n",
       "      <td>Manual</td>\n",
       "      <td>First Owner</td>\n",
       "      <td>large</td>\n",
       "    </tr>\n",
       "    <tr>\n",
       "      <th>6</th>\n",
       "      <td>Hyundai Xcent 1.2 Kappa S</td>\n",
       "      <td>2016</td>\n",
       "      <td>550000.0</td>\n",
       "      <td>25000.0</td>\n",
       "      <td>Petrol</td>\n",
       "      <td>Individual</td>\n",
       "      <td>Manual</td>\n",
       "      <td>First Owner</td>\n",
       "      <td>small</td>\n",
       "    </tr>\n",
       "    <tr>\n",
       "      <th>7</th>\n",
       "      <td>Tata Indigo Grand Petroll</td>\n",
       "      <td>2014</td>\n",
       "      <td>240000.0</td>\n",
       "      <td>60000.0</td>\n",
       "      <td>Petrol</td>\n",
       "      <td>Individual</td>\n",
       "      <td>Manual</td>\n",
       "      <td>Second Owner</td>\n",
       "      <td>medium</td>\n",
       "    </tr>\n",
       "    <tr>\n",
       "      <th>8</th>\n",
       "      <td>Hyundai Creta 1.6 VTVT S</td>\n",
       "      <td>2015</td>\n",
       "      <td>850000.0</td>\n",
       "      <td>25000.0</td>\n",
       "      <td>Petrol</td>\n",
       "      <td>Individual</td>\n",
       "      <td>Manual</td>\n",
       "      <td>First Owner</td>\n",
       "      <td>small</td>\n",
       "    </tr>\n",
       "    <tr>\n",
       "      <th>9</th>\n",
       "      <td>Maruti Celerio Green VXI</td>\n",
       "      <td>2017</td>\n",
       "      <td>365000.0</td>\n",
       "      <td>78000.0</td>\n",
       "      <td>CNG</td>\n",
       "      <td>Individual</td>\n",
       "      <td>Manual</td>\n",
       "      <td>First Owner</td>\n",
       "      <td>medium</td>\n",
       "    </tr>\n",
       "    <tr>\n",
       "      <th>10</th>\n",
       "      <td>Chevrolet Sail 1.2 Base</td>\n",
       "      <td>2015</td>\n",
       "      <td>260000.0</td>\n",
       "      <td>35000.0</td>\n",
       "      <td>Petrol</td>\n",
       "      <td>Individual</td>\n",
       "      <td>Manual</td>\n",
       "      <td>First Owner</td>\n",
       "      <td>small</td>\n",
       "    </tr>\n",
       "    <tr>\n",
       "      <th>11</th>\n",
       "      <td>Tata Indigo Grand Petrol</td>\n",
       "      <td>2014</td>\n",
       "      <td>250000.0</td>\n",
       "      <td>100000.0</td>\n",
       "      <td>Petrol</td>\n",
       "      <td>Individual</td>\n",
       "      <td>Manual</td>\n",
       "      <td>First Owner</td>\n",
       "      <td>large</td>\n",
       "    </tr>\n",
       "    <tr>\n",
       "      <th>12</th>\n",
       "      <td>Toyota Corolla Altis 1.8 VL CVT</td>\n",
       "      <td>2018</td>\n",
       "      <td>1650000.0</td>\n",
       "      <td>25000.0</td>\n",
       "      <td>Petrol</td>\n",
       "      <td>Dealer</td>\n",
       "      <td>Automatic</td>\n",
       "      <td>First Owner</td>\n",
       "      <td>small</td>\n",
       "    </tr>\n",
       "    <tr>\n",
       "      <th>20</th>\n",
       "      <td>Tata Indigo Grand Petrol</td>\n",
       "      <td>2014</td>\n",
       "      <td>240000.0</td>\n",
       "      <td>60000.0</td>\n",
       "      <td>Petrol</td>\n",
       "      <td>Individual</td>\n",
       "      <td>Manual</td>\n",
       "      <td>Second Owner</td>\n",
       "      <td>medium</td>\n",
       "    </tr>\n",
       "    <tr>\n",
       "      <th>21</th>\n",
       "      <td>Hyundai Creta 1.6 VTVT S</td>\n",
       "      <td>2015</td>\n",
       "      <td>850000.0</td>\n",
       "      <td>25000.0</td>\n",
       "      <td>Petrol</td>\n",
       "      <td>Individual</td>\n",
       "      <td>Manual</td>\n",
       "      <td>First Owner</td>\n",
       "      <td>small</td>\n",
       "    </tr>\n",
       "    <tr>\n",
       "      <th>26</th>\n",
       "      <td>Maruti Ciaz VXi Plus</td>\n",
       "      <td>2015</td>\n",
       "      <td>585000.0</td>\n",
       "      <td>24000.0</td>\n",
       "      <td>Petrol</td>\n",
       "      <td>Dealer</td>\n",
       "      <td>Manual</td>\n",
       "      <td>First Owner</td>\n",
       "      <td>small</td>\n",
       "    </tr>\n",
       "    <tr>\n",
       "      <th>27</th>\n",
       "      <td>Hyundai Venue SX Opt Diesel</td>\n",
       "      <td>2019</td>\n",
       "      <td>1195000.0</td>\n",
       "      <td>5000.0</td>\n",
       "      <td>Diesel</td>\n",
       "      <td>Dealer</td>\n",
       "      <td>Manual</td>\n",
       "      <td>First Owner</td>\n",
       "      <td>small</td>\n",
       "    </tr>\n",
       "    <tr>\n",
       "      <th>28</th>\n",
       "      <td>Chevrolet Enjoy TCDi LTZ 7 Seater</td>\n",
       "      <td>2013</td>\n",
       "      <td>390000.0</td>\n",
       "      <td>33000.0</td>\n",
       "      <td>Diesel</td>\n",
       "      <td>Individual</td>\n",
       "      <td>Manual</td>\n",
       "      <td>Second Owner</td>\n",
       "      <td>small</td>\n",
       "    </tr>\n",
       "    <tr>\n",
       "      <th>29</th>\n",
       "      <td>Jaguar XF 2.2 Litre Luxury</td>\n",
       "      <td>2014</td>\n",
       "      <td>1964999.0</td>\n",
       "      <td>28000.0</td>\n",
       "      <td>Diesel</td>\n",
       "      <td>Dealer</td>\n",
       "      <td>Automatic</td>\n",
       "      <td>First Owner</td>\n",
       "      <td>small</td>\n",
       "    </tr>\n",
       "    <tr>\n",
       "      <th>30</th>\n",
       "      <td>Mercedes-Benz New C-Class 220 CDI AT</td>\n",
       "      <td>2013</td>\n",
       "      <td>1425000.0</td>\n",
       "      <td>59000.0</td>\n",
       "      <td>Diesel</td>\n",
       "      <td>Dealer</td>\n",
       "      <td>Automatic</td>\n",
       "      <td>First Owner</td>\n",
       "      <td>medium</td>\n",
       "    </tr>\n",
       "  </tbody>\n",
       "</table>\n",
       "</div>"
      ],
      "text/plain": [
       "                                    name  year  selling_price  km_driven  \\\n",
       "0                          Maruti 800 AC  2007        60000.0    70000.0   \n",
       "1               Maruti Wagon R LXI Minor  2007       135000.0    50000.0   \n",
       "2                   Hyundai Verna 1.6 SX  2012       600000.0   100000.0   \n",
       "3                 Datsun RediGO T Option  2017       250000.0    46000.0   \n",
       "4                  Honda Amaze VX i-DTEC  2014       450000.0   141000.0   \n",
       "5                   Maruti Alto LX BSIII  2007       140000.0   125000.0   \n",
       "6              Hyundai Xcent 1.2 Kappa S  2016       550000.0    25000.0   \n",
       "7              Tata Indigo Grand Petroll  2014       240000.0    60000.0   \n",
       "8               Hyundai Creta 1.6 VTVT S  2015       850000.0    25000.0   \n",
       "9               Maruti Celerio Green VXI  2017       365000.0    78000.0   \n",
       "10               Chevrolet Sail 1.2 Base  2015       260000.0    35000.0   \n",
       "11              Tata Indigo Grand Petrol  2014       250000.0   100000.0   \n",
       "12       Toyota Corolla Altis 1.8 VL CVT  2018      1650000.0    25000.0   \n",
       "20              Tata Indigo Grand Petrol  2014       240000.0    60000.0   \n",
       "21              Hyundai Creta 1.6 VTVT S  2015       850000.0    25000.0   \n",
       "26                  Maruti Ciaz VXi Plus  2015       585000.0    24000.0   \n",
       "27           Hyundai Venue SX Opt Diesel  2019      1195000.0     5000.0   \n",
       "28     Chevrolet Enjoy TCDi LTZ 7 Seater  2013       390000.0    33000.0   \n",
       "29            Jaguar XF 2.2 Litre Luxury  2014      1964999.0    28000.0   \n",
       "30  Mercedes-Benz New C-Class 220 CDI AT  2013      1425000.0    59000.0   \n",
       "\n",
       "      fuel seller_type transmission         owner kmdriven_category  \n",
       "0   Petrol  Individual       Manual   First Owner            medium  \n",
       "1   Petrol  Individual       Manual   First Owner            medium  \n",
       "2   Diesel  Individual       Manual   First Owner             large  \n",
       "3   Petrol  Individual       Manual   First Owner            medium  \n",
       "4   Diesel  Individual       Manual  Second Owner             large  \n",
       "5   Petrol  Individual       Manual   First Owner             large  \n",
       "6   Petrol  Individual       Manual   First Owner             small  \n",
       "7   Petrol  Individual       Manual  Second Owner            medium  \n",
       "8   Petrol  Individual       Manual   First Owner             small  \n",
       "9      CNG  Individual       Manual   First Owner            medium  \n",
       "10  Petrol  Individual       Manual   First Owner             small  \n",
       "11  Petrol  Individual       Manual   First Owner             large  \n",
       "12  Petrol      Dealer    Automatic   First Owner             small  \n",
       "20  Petrol  Individual       Manual  Second Owner            medium  \n",
       "21  Petrol  Individual       Manual   First Owner             small  \n",
       "26  Petrol      Dealer       Manual   First Owner             small  \n",
       "27  Diesel      Dealer       Manual   First Owner             small  \n",
       "28  Diesel  Individual       Manual  Second Owner             small  \n",
       "29  Diesel      Dealer    Automatic   First Owner             small  \n",
       "30  Diesel      Dealer    Automatic   First Owner            medium  "
      ]
     },
     "execution_count": 22,
     "metadata": {},
     "output_type": "execute_result"
    }
   ],
   "source": [
    "# Задание 2\n",
    "# Создать столбец kmdriven, заполнить его значениями small, avarage, large от уровня пробега\n",
    "# При помощи df.describe() можно выяснить, что среднее расстояние - около 70 тыс. км. 25% - отметка в 36'000 км, 50% - 60'000, 75% - 90'000.\n",
    "# Предположим, что маленький пробег для машины - это четверть рынка, то есть 36 тыс. Средним назовём 36 тыс - 90 тыс, а большим свыше 90 тыс.\n",
    "\n",
    "df.loc[:, 'kmdriven_category'] = pd.cut(df.loc[:,'km_driven'], bins=[0, 36000, 90000, float('inf')], labels = ['small', 'medium', 'large'])\n",
    "\n",
    "# Вариант ниже не работает по причине работы копирования и вставки. loc должен использоваться вместо ['value'] согласно \n",
    "# https://pandas.pydata.org/pandas-docs/stable/user_guide/indexing.html#returning-a-view-versus-a-copy\n",
    "\n",
    "# df['kmdriven_category'] = pd.cut(df['km_driven'], bins=[0, 36000, 90000, float('inf')], labels = ['small', 'medium', 'large'])\n",
    "\n",
    "\n",
    "# Проверим\n",
    "df.head(20)"
   ]
  },
  {
   "cell_type": "code",
   "execution_count": 31,
   "metadata": {},
   "outputs": [
    {
     "data": {
      "text/html": [
       "<div>\n",
       "<style scoped>\n",
       "    .dataframe tbody tr th:only-of-type {\n",
       "        vertical-align: middle;\n",
       "    }\n",
       "\n",
       "    .dataframe tbody tr th {\n",
       "        vertical-align: top;\n",
       "    }\n",
       "\n",
       "    .dataframe thead tr th {\n",
       "        text-align: left;\n",
       "    }\n",
       "\n",
       "    .dataframe thead tr:last-of-type th {\n",
       "        text-align: right;\n",
       "    }\n",
       "</style>\n",
       "<table border=\"1\" class=\"dataframe\">\n",
       "  <thead>\n",
       "    <tr>\n",
       "      <th></th>\n",
       "      <th></th>\n",
       "      <th>mean</th>\n",
       "      <th>median</th>\n",
       "    </tr>\n",
       "    <tr>\n",
       "      <th></th>\n",
       "      <th></th>\n",
       "      <th>selling_price</th>\n",
       "      <th>selling_price</th>\n",
       "    </tr>\n",
       "    <tr>\n",
       "      <th>price_category</th>\n",
       "      <th>year</th>\n",
       "      <th></th>\n",
       "      <th></th>\n",
       "    </tr>\n",
       "  </thead>\n",
       "  <tbody>\n",
       "    <tr>\n",
       "      <th rowspan=\"5\" valign=\"top\">little_price</th>\n",
       "      <th>1992</th>\n",
       "      <td>50000.00</td>\n",
       "      <td>50000.0</td>\n",
       "    </tr>\n",
       "    <tr>\n",
       "      <th>1995</th>\n",
       "      <td>95000.00</td>\n",
       "      <td>95000.0</td>\n",
       "    </tr>\n",
       "    <tr>\n",
       "      <th>1996</th>\n",
       "      <td>200000.00</td>\n",
       "      <td>200000.0</td>\n",
       "    </tr>\n",
       "    <tr>\n",
       "      <th>1997</th>\n",
       "      <td>93000.00</td>\n",
       "      <td>79000.0</td>\n",
       "    </tr>\n",
       "    <tr>\n",
       "      <th>1998</th>\n",
       "      <td>60750.00</td>\n",
       "      <td>60000.0</td>\n",
       "    </tr>\n",
       "    <tr>\n",
       "      <th>...</th>\n",
       "      <th>...</th>\n",
       "      <td>...</td>\n",
       "      <td>...</td>\n",
       "    </tr>\n",
       "    <tr>\n",
       "      <th rowspan=\"5\" valign=\"top\">large_price</th>\n",
       "      <th>2016</th>\n",
       "      <td>1025666.61</td>\n",
       "      <td>750000.0</td>\n",
       "    </tr>\n",
       "    <tr>\n",
       "      <th>2017</th>\n",
       "      <td>1078846.12</td>\n",
       "      <td>800000.0</td>\n",
       "    </tr>\n",
       "    <tr>\n",
       "      <th>2018</th>\n",
       "      <td>1108132.93</td>\n",
       "      <td>850000.0</td>\n",
       "    </tr>\n",
       "    <tr>\n",
       "      <th>2019</th>\n",
       "      <td>1185659.31</td>\n",
       "      <td>900000.0</td>\n",
       "    </tr>\n",
       "    <tr>\n",
       "      <th>2020</th>\n",
       "      <td>1081807.62</td>\n",
       "      <td>926000.0</td>\n",
       "    </tr>\n",
       "  </tbody>\n",
       "</table>\n",
       "<p>62 rows × 2 columns</p>\n",
       "</div>"
      ],
      "text/plain": [
       "                             mean        median\n",
       "                    selling_price selling_price\n",
       "price_category year                            \n",
       "little_price   1992      50000.00       50000.0\n",
       "               1995      95000.00       95000.0\n",
       "               1996     200000.00      200000.0\n",
       "               1997      93000.00       79000.0\n",
       "               1998      60750.00       60000.0\n",
       "...                           ...           ...\n",
       "large_price    2016    1025666.61      750000.0\n",
       "               2017    1078846.12      800000.0\n",
       "               2018    1108132.93      850000.0\n",
       "               2019    1185659.31      900000.0\n",
       "               2020    1081807.62      926000.0\n",
       "\n",
       "[62 rows x 2 columns]"
      ]
     },
     "execution_count": 31,
     "metadata": {},
     "output_type": "execute_result"
    }
   ],
   "source": [
    "# Задание 11\n",
    "\n",
    "# Создать столбец “Категория стоимости (price)” (с помощью категоризации).\n",
    "# Выделить минимум 3 категории (низкая, высокая, средняя), фильтрацию для уровня цены выбрать самостоятельно, аргументировать выбор.\n",
    "# Создать сводную таблицу: средняя и медианная price по категории цены и году.\n",
    "\n",
    "# Столбец создаём так же, как и в прошлом задании\n",
    "# Четверть рынка - до 200'000, половина - до 350'000, три четверти 600'000.\n",
    "# Укажем низкую цену - до 25% рынка, высокую - свыше 75% рынка.\n",
    "df.loc[:, 'price_category'] = pd.cut(df.loc[:,'selling_price'], bins=[0, 200000, 600000, float('inf')], \n",
    "                                     labels = ['little_price', 'medium_price', 'large_price'])\n",
    "# df.describe()\n",
    "\n",
    "pivot_table = df.pivot_table(index = ['price_category', 'year'], values = 'selling_price', aggfunc = ['mean', 'median'], observed=True).round(2)\n",
    "\n",
    "# И проверка\n",
    "pivot_table\n",
    "# Учитываем, что медиана - значение по середине, а среднее значение - сумма / количество. Видно на строчках 1997 и 1998 года у низкой цены"
   ]
  },
  {
   "cell_type": "code",
   "execution_count": 33,
   "metadata": {},
   "outputs": [
    {
     "data": {
      "text/html": [
       "<div>\n",
       "<style scoped>\n",
       "    .dataframe tbody tr th:only-of-type {\n",
       "        vertical-align: middle;\n",
       "    }\n",
       "\n",
       "    .dataframe tbody tr th {\n",
       "        vertical-align: top;\n",
       "    }\n",
       "\n",
       "    .dataframe thead tr th {\n",
       "        text-align: left;\n",
       "    }\n",
       "\n",
       "    .dataframe thead tr:last-of-type th {\n",
       "        text-align: right;\n",
       "    }\n",
       "</style>\n",
       "<table border=\"1\" class=\"dataframe\">\n",
       "  <thead>\n",
       "    <tr>\n",
       "      <th></th>\n",
       "      <th></th>\n",
       "      <th>mean</th>\n",
       "      <th>median</th>\n",
       "    </tr>\n",
       "    <tr>\n",
       "      <th></th>\n",
       "      <th></th>\n",
       "      <th>km_driven</th>\n",
       "      <th>km_driven</th>\n",
       "    </tr>\n",
       "    <tr>\n",
       "      <th>year_category</th>\n",
       "      <th>price_category</th>\n",
       "      <th></th>\n",
       "      <th></th>\n",
       "    </tr>\n",
       "  </thead>\n",
       "  <tbody>\n",
       "    <tr>\n",
       "      <th rowspan=\"3\" valign=\"top\">old</th>\n",
       "      <th>little_price</th>\n",
       "      <td>73807.51</td>\n",
       "      <td>70000.0</td>\n",
       "    </tr>\n",
       "    <tr>\n",
       "      <th>medium_price</th>\n",
       "      <td>35000.00</td>\n",
       "      <td>35000.0</td>\n",
       "    </tr>\n",
       "    <tr>\n",
       "      <th>large_price</th>\n",
       "      <td>35000.00</td>\n",
       "      <td>35000.0</td>\n",
       "    </tr>\n",
       "    <tr>\n",
       "      <th rowspan=\"3\" valign=\"top\">medium</th>\n",
       "      <th>little_price</th>\n",
       "      <td>85566.05</td>\n",
       "      <td>80000.0</td>\n",
       "    </tr>\n",
       "    <tr>\n",
       "      <th>medium_price</th>\n",
       "      <td>82271.27</td>\n",
       "      <td>74660.0</td>\n",
       "    </tr>\n",
       "    <tr>\n",
       "      <th>large_price</th>\n",
       "      <td>84636.17</td>\n",
       "      <td>75000.0</td>\n",
       "    </tr>\n",
       "    <tr>\n",
       "      <th rowspan=\"3\" valign=\"top\">new</th>\n",
       "      <th>little_price</th>\n",
       "      <td>44958.94</td>\n",
       "      <td>40000.0</td>\n",
       "    </tr>\n",
       "    <tr>\n",
       "      <th>medium_price</th>\n",
       "      <td>37688.17</td>\n",
       "      <td>30000.0</td>\n",
       "    </tr>\n",
       "    <tr>\n",
       "      <th>large_price</th>\n",
       "      <td>38690.66</td>\n",
       "      <td>30093.0</td>\n",
       "    </tr>\n",
       "  </tbody>\n",
       "</table>\n",
       "</div>"
      ],
      "text/plain": [
       "                                  mean    median\n",
       "                             km_driven km_driven\n",
       "year_category price_category                    \n",
       "old           little_price    73807.51   70000.0\n",
       "              medium_price    35000.00   35000.0\n",
       "              large_price     35000.00   35000.0\n",
       "medium        little_price    85566.05   80000.0\n",
       "              medium_price    82271.27   74660.0\n",
       "              large_price     84636.17   75000.0\n",
       "new           little_price    44958.94   40000.0\n",
       "              medium_price    37688.17   30000.0\n",
       "              large_price     38690.66   30093.0"
      ]
     },
     "execution_count": 33,
     "metadata": {},
     "output_type": "execute_result"
    }
   ],
   "source": [
    "# Задание 19\n",
    "# Создать столбец “Категория года (year)” (с помощью категоризации).\n",
    "# Выделить минимум 3 категории (старая, новая, средняя), фильтрацию для года выбрать самостоятельно, аргументировать выбор.\n",
    "# Создать столбец “Категория стоимости (price)” (с помощью категоризации). \n",
    "#    Выделить минимум 3 категории (низкая, высокая, средняя), фильтрацию для уровня цены выбрать самостоятельно, аргументировать выбор.\n",
    "# Создать сводную таблицу: средний, медианный пробег по категории года и категории стоимости.\n",
    "\n",
    "df.loc[:, 'year_category'] = pd.cut(df.loc[:,'year'], bins=[0, 2000, 2015, float('inf')], \n",
    "                                     labels = ['old', 'medium', 'new'])\n",
    "# До 2000 года старые автомобили из 19 века, до 2015 нормальные, машины меньше 10 лет - новые.\n",
    "\n",
    "# Категория стоимости уже есть\n",
    "\n",
    "pivot_table = df.pivot_table(index = ['year_category', 'price_category'], values = 'km_driven', aggfunc = ['mean', 'median'], observed=True).round(2)\n",
    "pivot_table"
   ]
  },
  {
   "cell_type": "code",
   "execution_count": 74,
   "metadata": {},
   "outputs": [
    {
     "data": {
      "text/html": [
       "<div>\n",
       "<style scoped>\n",
       "    .dataframe tbody tr th:only-of-type {\n",
       "        vertical-align: middle;\n",
       "    }\n",
       "\n",
       "    .dataframe tbody tr th {\n",
       "        vertical-align: top;\n",
       "    }\n",
       "\n",
       "    .dataframe thead th {\n",
       "        text-align: right;\n",
       "    }\n",
       "</style>\n",
       "<table border=\"1\" class=\"dataframe\">\n",
       "  <thead>\n",
       "    <tr style=\"text-align: right;\">\n",
       "      <th></th>\n",
       "      <th></th>\n",
       "      <th>km_driven</th>\n",
       "      <th>selling_price</th>\n",
       "    </tr>\n",
       "    <tr>\n",
       "      <th>owner</th>\n",
       "      <th>year</th>\n",
       "      <th></th>\n",
       "      <th></th>\n",
       "    </tr>\n",
       "  </thead>\n",
       "  <tbody>\n",
       "    <tr>\n",
       "      <th rowspan=\"4\" valign=\"top\">First Owner</th>\n",
       "      <th>2001</th>\n",
       "      <td>256000.0</td>\n",
       "      <td>150000.0</td>\n",
       "    </tr>\n",
       "    <tr>\n",
       "      <th>2002</th>\n",
       "      <td>120000.0</td>\n",
       "      <td>100000.0</td>\n",
       "    </tr>\n",
       "    <tr>\n",
       "      <th>2004</th>\n",
       "      <td>120000.0</td>\n",
       "      <td>182500.0</td>\n",
       "    </tr>\n",
       "    <tr>\n",
       "      <th>2005</th>\n",
       "      <td>134600.0</td>\n",
       "      <td>100000.0</td>\n",
       "    </tr>\n",
       "    <tr>\n",
       "      <th rowspan=\"3\" valign=\"top\">Fourth &amp; Above Owner</th>\n",
       "      <th>2002</th>\n",
       "      <td>120000.0</td>\n",
       "      <td>50000.0</td>\n",
       "    </tr>\n",
       "    <tr>\n",
       "      <th>2004</th>\n",
       "      <td>120000.0</td>\n",
       "      <td>110000.0</td>\n",
       "    </tr>\n",
       "    <tr>\n",
       "      <th>2005</th>\n",
       "      <td>92645.0</td>\n",
       "      <td>114999.0</td>\n",
       "    </tr>\n",
       "    <tr>\n",
       "      <th rowspan=\"5\" valign=\"top\">Second Owner</th>\n",
       "      <th>2000</th>\n",
       "      <td>50000.0</td>\n",
       "      <td>155000.0</td>\n",
       "    </tr>\n",
       "    <tr>\n",
       "      <th>2002</th>\n",
       "      <td>116000.0</td>\n",
       "      <td>90000.0</td>\n",
       "    </tr>\n",
       "    <tr>\n",
       "      <th>2003</th>\n",
       "      <td>91250.0</td>\n",
       "      <td>65000.0</td>\n",
       "    </tr>\n",
       "    <tr>\n",
       "      <th>2004</th>\n",
       "      <td>120000.0</td>\n",
       "      <td>120000.0</td>\n",
       "    </tr>\n",
       "    <tr>\n",
       "      <th>2005</th>\n",
       "      <td>132500.0</td>\n",
       "      <td>125000.0</td>\n",
       "    </tr>\n",
       "    <tr>\n",
       "      <th rowspan=\"4\" valign=\"top\">Third Owner</th>\n",
       "      <th>2001</th>\n",
       "      <td>100000.0</td>\n",
       "      <td>80000.0</td>\n",
       "    </tr>\n",
       "    <tr>\n",
       "      <th>2002</th>\n",
       "      <td>75000.0</td>\n",
       "      <td>117500.0</td>\n",
       "    </tr>\n",
       "    <tr>\n",
       "      <th>2003</th>\n",
       "      <td>120000.0</td>\n",
       "      <td>110000.0</td>\n",
       "    </tr>\n",
       "    <tr>\n",
       "      <th>2005</th>\n",
       "      <td>120000.0</td>\n",
       "      <td>120000.0</td>\n",
       "    </tr>\n",
       "  </tbody>\n",
       "</table>\n",
       "</div>"
      ],
      "text/plain": [
       "                           km_driven  selling_price\n",
       "owner                year                          \n",
       "First Owner          2001   256000.0       150000.0\n",
       "                     2002   120000.0       100000.0\n",
       "                     2004   120000.0       182500.0\n",
       "                     2005   134600.0       100000.0\n",
       "Fourth & Above Owner 2002   120000.0        50000.0\n",
       "                     2004   120000.0       110000.0\n",
       "                     2005    92645.0       114999.0\n",
       "Second Owner         2000    50000.0       155000.0\n",
       "                     2002   116000.0        90000.0\n",
       "                     2003    91250.0        65000.0\n",
       "                     2004   120000.0       120000.0\n",
       "                     2005   132500.0       125000.0\n",
       "Third Owner          2001   100000.0        80000.0\n",
       "                     2002    75000.0       117500.0\n",
       "                     2003   120000.0       110000.0\n",
       "                     2005   120000.0       120000.0"
      ]
     },
     "execution_count": 74,
     "metadata": {},
     "output_type": "execute_result"
    }
   ],
   "source": [
    "# Создать столбец “Категория стоимости (price)” (с помощью категоризации). Выделить минимум 3 категории (низкая, высокая, средняя), \n",
    "# фильтрацию для уровня цены выбрать самостоятельно, аргументировать выбор.\n",
    "\n",
    "# Отфильтровать набор данных. Выбрать только записи, где категория цены= низкая и высокая\n",
    "# + выбрать 2 типа топлива с максимальной медианной стоимостью \n",
    "# + transmission c максимальным количеством записей \n",
    "# + год в определенном диапазоне (диапазон выбрать самостоятельно, чтобы получить в выборке достаточное количество записей). \n",
    "\n",
    "# Создать сводные таблицы: owner, year- средний пробег и медианная цена.\n",
    "\n",
    "###\n",
    "\n",
    "filtered_df = df[(df['price_category'].isin(['little_price','large_price']))]\n",
    "\n",
    "# filtered_df.loc[\n",
    "fuel_filter = filtered_df.groupby(by='fuel')['selling_price'].median().nlargest(2).index\n",
    "# .nlargest(2).index\n",
    "    # ]\n",
    "\n",
    "transmission_filter = filtered_df.groupby(by='transmission')['selling_price'].count().nlargest(1).index\n",
    "\n",
    "year_filter = [2000, 2001, 2002, 2003, 2004, 2005]\n",
    "#filtered_df.groupby(by='year')['selling_price'].count().nlargest(5).index\n",
    "\n",
    "fully_filtered_df = filtered_df[\n",
    "    (filtered_df['year'].isin(year_filter))\n",
    "    &(filtered_df['fuel'].isin(fuel_filter))\n",
    "    &(filtered_df['transmission'].isin(transmission_filter))]\n",
    "\n",
    "\n",
    "# Чтобы применить несколько функций - кидаем в aggfunc словарь с столбцом и именем функции\n",
    "pivot_table = fully_filtered_df.pivot_table(index = ['owner', 'year'], \n",
    "                                            values = ['km_driven', 'selling_price'], \n",
    "                                            aggfunc = {'km_driven':'mean',\n",
    "                                                        'selling_price':'median'},\n",
    "                                            observed=True).round(2)\n",
    "\n",
    "# fuel_filter\n",
    "# filtered_df\n",
    "# transmission_filter\n",
    "# fully_filtered_df\n",
    "pivot_table"
   ]
  },
  {
   "cell_type": "code",
   "execution_count": null,
   "metadata": {},
   "outputs": [],
   "source": []
  }
 ],
 "metadata": {
  "colab": {
   "provenance": []
  },
  "kernelspec": {
   "display_name": "Python 3 (ipykernel)",
   "language": "python",
   "name": "python3"
  },
  "language_info": {
   "codemirror_mode": {
    "name": "ipython",
    "version": 3
   },
   "file_extension": ".py",
   "mimetype": "text/x-python",
   "name": "python",
   "nbconvert_exporter": "python",
   "pygments_lexer": "ipython3",
   "version": "3.12.10"
  }
 },
 "nbformat": 4,
 "nbformat_minor": 4
}
